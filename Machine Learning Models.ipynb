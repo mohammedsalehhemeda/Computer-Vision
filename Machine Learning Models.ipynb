{
 "cells": [
  {
   "cell_type": "markdown",
   "metadata": {
    "id": "TCKCH5dhSbE8"
   },
   "source": [
    "## Computer Vision\n",
    "\n"
   ]
  },
  {
   "cell_type": "code",
   "execution_count": 20,
   "metadata": {
    "id": "hm9BbLR50gqE"
   },
   "outputs": [],
   "source": [
    "# Python ≥3.5 is required\n",
    "import sys\n",
    "assert sys.version_info >= (3, 5)\n",
    "\n",
    "# Scikit-Learn ≥0.20 is required\n",
    "import sklearn\n",
    "assert sklearn.__version__ >= \"0.20\"\n",
    "\n",
    "# Common imports\n",
    "import numpy as np\n",
    "import os\n",
    "import cv2\n",
    "import io\n",
    "# to make this notebook's output stable across runs\n",
    "np.random.seed(42)\n",
    "\n",
    "# To plot pretty figures\n",
    "%matplotlib inline\n",
    "import matplotlib as mpl\n",
    "import matplotlib.pyplot as plt\n",
    "import pandas as pd"
   ]
  },
  {
   "cell_type": "code",
   "execution_count": 21,
   "metadata": {
    "id": "EitW-cVI0gqI"
   },
   "outputs": [],
   "source": [
    "#importing the features in pandas dataframe and then convert them to a numpy array.\n",
    "X = pd.read_csv(\"/Users/mohammedkhedr/Downloads/x_train_gr_smpl.csv\")\n",
    "X_array = X.to_numpy()\n",
    "\n",
    "y = pd.read_csv(\"/Users/mohammedkhedr/Downloads/y_train_smpl.csv\")\n",
    "y_array = y.to_numpy()\n",
    "\n",
    "y0 = pd.read_csv(\"/Users/mohammedkhedr/Downloads/y_train_smpl_0.csv\")\n",
    "y0_array = y0.to_numpy()\n",
    "\n",
    "y1 = pd.read_csv(\"/Users/mohammedkhedr/Downloads/y_train_smpl_1.csv\")\n",
    "y1_array = y1.to_numpy()\n",
    "\n",
    "y2 = pd.read_csv(\"/Users/mohammedkhedr/Downloads/y_train_smpl_2.csv\")\n",
    "y2_array = y2.to_numpy()\n",
    "\n",
    "y3 = pd.read_csv(\"/Users/mohammedkhedr/Downloads/y_train_smpl_3.csv\")\n",
    "y3_array = y3.to_numpy()\n",
    "\n",
    "y4 = pd.read_csv(\"/Users/mohammedkhedr/Downloads/y_train_smpl_4.csv\")\n",
    "y4_array = y4.to_numpy()\n",
    "\n",
    "y5 = pd.read_csv(\"/Users/mohammedkhedr/Downloads/y_train_smpl_5.csv\")\n",
    "y5_array = y5.to_numpy()\n",
    "\n",
    "y6 = pd.read_csv(\"/Users/mohammedkhedr/Downloads/y_train_smpl_6.csv\")\n",
    "y6_array = y6.to_numpy()\n",
    "\n",
    "y7 = pd.read_csv(\"/Users/mohammedkhedr/Downloads/y_train_smpl_7.csv\")\n",
    "y7_array = y7.to_numpy()\n",
    "\n",
    "y8 = pd.read_csv(\"/Users/mohammedkhedr/Downloads/y_train_smpl_8.csv\")\n",
    "y8_array = y8.to_numpy()\n",
    "\n",
    "y9 = pd.read_csv(\"/Users/mohammedkhedr/Downloads/y_train_smpl_9.csv\")\n",
    "y9_array = y9.to_numpy()"
   ]
  },
  {
   "cell_type": "markdown",
   "metadata": {},
   "source": [
    "Understanding the data:"
   ]
  },
  {
   "cell_type": "code",
   "execution_count": 5,
   "metadata": {
    "colab": {
     "base_uri": "https://localhost:8080/",
     "height": 251
    },
    "id": "v-mPyN9C_oSA",
    "outputId": "68c63193-9024-4f0d-84bd-20ccf318e308"
   },
   "outputs": [
    {
     "data": {
      "text/html": [
       "<div>\n",
       "<style scoped>\n",
       "    .dataframe tbody tr th:only-of-type {\n",
       "        vertical-align: middle;\n",
       "    }\n",
       "\n",
       "    .dataframe tbody tr th {\n",
       "        vertical-align: top;\n",
       "    }\n",
       "\n",
       "    .dataframe thead th {\n",
       "        text-align: right;\n",
       "    }\n",
       "</style>\n",
       "<table border=\"1\" class=\"dataframe\">\n",
       "  <thead>\n",
       "    <tr style=\"text-align: right;\">\n",
       "      <th></th>\n",
       "      <th>0</th>\n",
       "      <th>1</th>\n",
       "      <th>2</th>\n",
       "      <th>3</th>\n",
       "      <th>4</th>\n",
       "      <th>5</th>\n",
       "      <th>6</th>\n",
       "      <th>7</th>\n",
       "      <th>8</th>\n",
       "      <th>9</th>\n",
       "      <th>...</th>\n",
       "      <th>2294</th>\n",
       "      <th>2295</th>\n",
       "      <th>2296</th>\n",
       "      <th>2297</th>\n",
       "      <th>2298</th>\n",
       "      <th>2299</th>\n",
       "      <th>2300</th>\n",
       "      <th>2301</th>\n",
       "      <th>2302</th>\n",
       "      <th>2303</th>\n",
       "    </tr>\n",
       "  </thead>\n",
       "  <tbody>\n",
       "    <tr>\n",
       "      <th>count</th>\n",
       "      <td>9690.000000</td>\n",
       "      <td>9690.000000</td>\n",
       "      <td>9690.000000</td>\n",
       "      <td>9690.000000</td>\n",
       "      <td>9690.000000</td>\n",
       "      <td>9690.000000</td>\n",
       "      <td>9690.000000</td>\n",
       "      <td>9690.000000</td>\n",
       "      <td>9690.000000</td>\n",
       "      <td>9690.000000</td>\n",
       "      <td>...</td>\n",
       "      <td>9690.000000</td>\n",
       "      <td>9690.000000</td>\n",
       "      <td>9690.000000</td>\n",
       "      <td>9690.000000</td>\n",
       "      <td>9690.000000</td>\n",
       "      <td>9690.000000</td>\n",
       "      <td>9690.00000</td>\n",
       "      <td>9690.000000</td>\n",
       "      <td>9690.000000</td>\n",
       "      <td>9690.000000</td>\n",
       "    </tr>\n",
       "    <tr>\n",
       "      <th>mean</th>\n",
       "      <td>89.658514</td>\n",
       "      <td>89.545201</td>\n",
       "      <td>89.343756</td>\n",
       "      <td>89.566770</td>\n",
       "      <td>89.812590</td>\n",
       "      <td>89.853251</td>\n",
       "      <td>89.883282</td>\n",
       "      <td>89.978431</td>\n",
       "      <td>90.170175</td>\n",
       "      <td>90.519092</td>\n",
       "      <td>...</td>\n",
       "      <td>72.234881</td>\n",
       "      <td>71.833437</td>\n",
       "      <td>71.394118</td>\n",
       "      <td>70.572136</td>\n",
       "      <td>69.660165</td>\n",
       "      <td>68.878638</td>\n",
       "      <td>68.29453</td>\n",
       "      <td>67.831889</td>\n",
       "      <td>67.548297</td>\n",
       "      <td>67.393189</td>\n",
       "    </tr>\n",
       "    <tr>\n",
       "      <th>std</th>\n",
       "      <td>77.521341</td>\n",
       "      <td>77.430539</td>\n",
       "      <td>77.350452</td>\n",
       "      <td>77.498754</td>\n",
       "      <td>77.437292</td>\n",
       "      <td>77.279125</td>\n",
       "      <td>77.085714</td>\n",
       "      <td>77.081732</td>\n",
       "      <td>77.062371</td>\n",
       "      <td>77.155644</td>\n",
       "      <td>...</td>\n",
       "      <td>65.369022</td>\n",
       "      <td>65.439225</td>\n",
       "      <td>65.402298</td>\n",
       "      <td>65.144238</td>\n",
       "      <td>64.885963</td>\n",
       "      <td>64.530366</td>\n",
       "      <td>64.27455</td>\n",
       "      <td>63.799350</td>\n",
       "      <td>63.437102</td>\n",
       "      <td>63.506304</td>\n",
       "    </tr>\n",
       "    <tr>\n",
       "      <th>min</th>\n",
       "      <td>5.000000</td>\n",
       "      <td>5.000000</td>\n",
       "      <td>4.000000</td>\n",
       "      <td>5.000000</td>\n",
       "      <td>5.000000</td>\n",
       "      <td>5.000000</td>\n",
       "      <td>5.000000</td>\n",
       "      <td>4.000000</td>\n",
       "      <td>4.000000</td>\n",
       "      <td>4.000000</td>\n",
       "      <td>...</td>\n",
       "      <td>4.000000</td>\n",
       "      <td>4.000000</td>\n",
       "      <td>4.000000</td>\n",
       "      <td>5.000000</td>\n",
       "      <td>4.000000</td>\n",
       "      <td>4.000000</td>\n",
       "      <td>4.00000</td>\n",
       "      <td>5.000000</td>\n",
       "      <td>4.000000</td>\n",
       "      <td>4.000000</td>\n",
       "    </tr>\n",
       "    <tr>\n",
       "      <th>25%</th>\n",
       "      <td>32.000000</td>\n",
       "      <td>32.000000</td>\n",
       "      <td>32.000000</td>\n",
       "      <td>31.000000</td>\n",
       "      <td>32.000000</td>\n",
       "      <td>32.000000</td>\n",
       "      <td>32.000000</td>\n",
       "      <td>33.000000</td>\n",
       "      <td>33.000000</td>\n",
       "      <td>33.000000</td>\n",
       "      <td>...</td>\n",
       "      <td>26.000000</td>\n",
       "      <td>26.000000</td>\n",
       "      <td>26.000000</td>\n",
       "      <td>26.000000</td>\n",
       "      <td>26.000000</td>\n",
       "      <td>25.000000</td>\n",
       "      <td>25.00000</td>\n",
       "      <td>25.000000</td>\n",
       "      <td>25.000000</td>\n",
       "      <td>25.000000</td>\n",
       "    </tr>\n",
       "    <tr>\n",
       "      <th>50%</th>\n",
       "      <td>57.000000</td>\n",
       "      <td>58.000000</td>\n",
       "      <td>57.000000</td>\n",
       "      <td>58.000000</td>\n",
       "      <td>58.000000</td>\n",
       "      <td>58.000000</td>\n",
       "      <td>58.000000</td>\n",
       "      <td>58.000000</td>\n",
       "      <td>59.000000</td>\n",
       "      <td>59.000000</td>\n",
       "      <td>...</td>\n",
       "      <td>46.000000</td>\n",
       "      <td>46.000000</td>\n",
       "      <td>46.000000</td>\n",
       "      <td>45.000000</td>\n",
       "      <td>45.000000</td>\n",
       "      <td>44.000000</td>\n",
       "      <td>44.00000</td>\n",
       "      <td>43.000000</td>\n",
       "      <td>43.000000</td>\n",
       "      <td>43.000000</td>\n",
       "    </tr>\n",
       "    <tr>\n",
       "      <th>75%</th>\n",
       "      <td>126.000000</td>\n",
       "      <td>124.000000</td>\n",
       "      <td>122.750000</td>\n",
       "      <td>123.000000</td>\n",
       "      <td>125.000000</td>\n",
       "      <td>123.750000</td>\n",
       "      <td>124.000000</td>\n",
       "      <td>124.000000</td>\n",
       "      <td>124.000000</td>\n",
       "      <td>126.000000</td>\n",
       "      <td>...</td>\n",
       "      <td>95.000000</td>\n",
       "      <td>93.000000</td>\n",
       "      <td>91.000000</td>\n",
       "      <td>88.000000</td>\n",
       "      <td>86.000000</td>\n",
       "      <td>84.000000</td>\n",
       "      <td>82.00000</td>\n",
       "      <td>82.000000</td>\n",
       "      <td>81.000000</td>\n",
       "      <td>81.000000</td>\n",
       "    </tr>\n",
       "    <tr>\n",
       "      <th>max</th>\n",
       "      <td>255.000000</td>\n",
       "      <td>255.000000</td>\n",
       "      <td>255.000000</td>\n",
       "      <td>255.000000</td>\n",
       "      <td>255.000000</td>\n",
       "      <td>255.000000</td>\n",
       "      <td>255.000000</td>\n",
       "      <td>255.000000</td>\n",
       "      <td>255.000000</td>\n",
       "      <td>255.000000</td>\n",
       "      <td>...</td>\n",
       "      <td>255.000000</td>\n",
       "      <td>255.000000</td>\n",
       "      <td>255.000000</td>\n",
       "      <td>255.000000</td>\n",
       "      <td>255.000000</td>\n",
       "      <td>255.000000</td>\n",
       "      <td>255.00000</td>\n",
       "      <td>255.000000</td>\n",
       "      <td>255.000000</td>\n",
       "      <td>255.000000</td>\n",
       "    </tr>\n",
       "  </tbody>\n",
       "</table>\n",
       "<p>8 rows × 2304 columns</p>\n",
       "</div>"
      ],
      "text/plain": [
       "                 0            1            2            3            4  \\\n",
       "count  9690.000000  9690.000000  9690.000000  9690.000000  9690.000000   \n",
       "mean     89.658514    89.545201    89.343756    89.566770    89.812590   \n",
       "std      77.521341    77.430539    77.350452    77.498754    77.437292   \n",
       "min       5.000000     5.000000     4.000000     5.000000     5.000000   \n",
       "25%      32.000000    32.000000    32.000000    31.000000    32.000000   \n",
       "50%      57.000000    58.000000    57.000000    58.000000    58.000000   \n",
       "75%     126.000000   124.000000   122.750000   123.000000   125.000000   \n",
       "max     255.000000   255.000000   255.000000   255.000000   255.000000   \n",
       "\n",
       "                 5            6            7            8            9  ...  \\\n",
       "count  9690.000000  9690.000000  9690.000000  9690.000000  9690.000000  ...   \n",
       "mean     89.853251    89.883282    89.978431    90.170175    90.519092  ...   \n",
       "std      77.279125    77.085714    77.081732    77.062371    77.155644  ...   \n",
       "min       5.000000     5.000000     4.000000     4.000000     4.000000  ...   \n",
       "25%      32.000000    32.000000    33.000000    33.000000    33.000000  ...   \n",
       "50%      58.000000    58.000000    58.000000    59.000000    59.000000  ...   \n",
       "75%     123.750000   124.000000   124.000000   124.000000   126.000000  ...   \n",
       "max     255.000000   255.000000   255.000000   255.000000   255.000000  ...   \n",
       "\n",
       "              2294         2295         2296         2297         2298  \\\n",
       "count  9690.000000  9690.000000  9690.000000  9690.000000  9690.000000   \n",
       "mean     72.234881    71.833437    71.394118    70.572136    69.660165   \n",
       "std      65.369022    65.439225    65.402298    65.144238    64.885963   \n",
       "min       4.000000     4.000000     4.000000     5.000000     4.000000   \n",
       "25%      26.000000    26.000000    26.000000    26.000000    26.000000   \n",
       "50%      46.000000    46.000000    46.000000    45.000000    45.000000   \n",
       "75%      95.000000    93.000000    91.000000    88.000000    86.000000   \n",
       "max     255.000000   255.000000   255.000000   255.000000   255.000000   \n",
       "\n",
       "              2299        2300         2301         2302         2303  \n",
       "count  9690.000000  9690.00000  9690.000000  9690.000000  9690.000000  \n",
       "mean     68.878638    68.29453    67.831889    67.548297    67.393189  \n",
       "std      64.530366    64.27455    63.799350    63.437102    63.506304  \n",
       "min       4.000000     4.00000     5.000000     4.000000     4.000000  \n",
       "25%      25.000000    25.00000    25.000000    25.000000    25.000000  \n",
       "50%      44.000000    44.00000    43.000000    43.000000    43.000000  \n",
       "75%      84.000000    82.00000    82.000000    81.000000    81.000000  \n",
       "max     255.000000   255.00000   255.000000   255.000000   255.000000  \n",
       "\n",
       "[8 rows x 2304 columns]"
      ]
     },
     "execution_count": 5,
     "metadata": {},
     "output_type": "execute_result"
    }
   ],
   "source": [
    "X.describe()"
   ]
  },
  {
   "cell_type": "code",
   "execution_count": 6,
   "metadata": {},
   "outputs": [
    {
     "data": {
      "text/html": [
       "<div>\n",
       "<style scoped>\n",
       "    .dataframe tbody tr th:only-of-type {\n",
       "        vertical-align: middle;\n",
       "    }\n",
       "\n",
       "    .dataframe tbody tr th {\n",
       "        vertical-align: top;\n",
       "    }\n",
       "\n",
       "    .dataframe thead th {\n",
       "        text-align: right;\n",
       "    }\n",
       "</style>\n",
       "<table border=\"1\" class=\"dataframe\">\n",
       "  <thead>\n",
       "    <tr style=\"text-align: right;\">\n",
       "      <th></th>\n",
       "      <th>0</th>\n",
       "    </tr>\n",
       "  </thead>\n",
       "  <tbody>\n",
       "    <tr>\n",
       "      <th>count</th>\n",
       "      <td>9690.000000</td>\n",
       "    </tr>\n",
       "    <tr>\n",
       "      <th>mean</th>\n",
       "      <td>3.148607</td>\n",
       "    </tr>\n",
       "    <tr>\n",
       "      <th>std</th>\n",
       "      <td>2.177158</td>\n",
       "    </tr>\n",
       "    <tr>\n",
       "      <th>min</th>\n",
       "      <td>0.000000</td>\n",
       "    </tr>\n",
       "    <tr>\n",
       "      <th>25%</th>\n",
       "      <td>1.000000</td>\n",
       "    </tr>\n",
       "    <tr>\n",
       "      <th>50%</th>\n",
       "      <td>3.000000</td>\n",
       "    </tr>\n",
       "    <tr>\n",
       "      <th>75%</th>\n",
       "      <td>4.000000</td>\n",
       "    </tr>\n",
       "    <tr>\n",
       "      <th>max</th>\n",
       "      <td>9.000000</td>\n",
       "    </tr>\n",
       "  </tbody>\n",
       "</table>\n",
       "</div>"
      ],
      "text/plain": [
       "                 0\n",
       "count  9690.000000\n",
       "mean      3.148607\n",
       "std       2.177158\n",
       "min       0.000000\n",
       "25%       1.000000\n",
       "50%       3.000000\n",
       "75%       4.000000\n",
       "max       9.000000"
      ]
     },
     "execution_count": 6,
     "metadata": {},
     "output_type": "execute_result"
    }
   ],
   "source": [
    "y.describe()"
   ]
  },
  {
   "cell_type": "markdown",
   "metadata": {
    "id": "J-VXbgY20mAO"
   },
   "source": [
    "## 1- Visualizing the data"
   ]
  },
  {
   "cell_type": "code",
   "execution_count": 7,
   "metadata": {
    "colab": {
     "base_uri": "https://localhost:8080/",
     "height": 267
    },
    "id": "EDVkbnGX0gqL",
    "outputId": "d0f4df1f-709d-44c3-8369-6fca0a64817b"
   },
   "outputs": [
    {
     "data": {
      "image/png": "[encoded data removed]",
      "text/plain": [
       "<Figure size 432x288 with 1 Axes>"
      ]
     },
     "metadata": {
      "needs_background": "light"
     },
     "output_type": "display_data"
    }
   ],
   "source": [
    "#Visualizing some pictures\n",
    "index = 5500\n",
    "some_feature = X.iloc[index].to_numpy()\n",
    "some_image = some_feature.reshape(48, 48)\n",
    "plt.imshow(some_image, cmap=mpl.cm.binary)\n",
    "plt.show()"
   ]
  },
  {
   "cell_type": "markdown",
   "metadata": {
    "id": "4QEpSPjO073m"
   },
   "source": [
    "## 2- Randomization and Splitting:\n",
    "\n",
    "Dividing the data into train set and test set."
   ]
  },
  {
   "cell_type": "code",
   "execution_count": 22,
   "metadata": {
    "id": "8TPCXZI30gqR"
   },
   "outputs": [],
   "source": [
    "#Randmoize and split the data\n",
    "from sklearn.model_selection import train_test_split\n",
    "X_train, X_test, y_train, y_test = train_test_split(X_array,y_array, random_state=42)"
   ]
  },
  {
   "cell_type": "markdown",
   "metadata": {
    "id": "KgVvDFGz1JPj"
   },
   "source": [
    "Normalizing the pixels so that each pixel takes value between 0 and 1."
   ]
  },
  {
   "cell_type": "code",
   "execution_count": 23,
   "metadata": {
    "colab": {
     "base_uri": "https://localhost:8080/"
    },
    "id": "xqbOA4aE0gqT",
    "outputId": "5d7d3267-94a9-487a-d99d-d3bb08826ada"
   },
   "outputs": [
    {
     "data": {
      "text/plain": [
       "(7267, 2304)"
      ]
     },
     "execution_count": 23,
     "metadata": {},
     "output_type": "execute_result"
    }
   ],
   "source": [
    "#Normalize the data to values between 0 and 1\n",
    "x_train = X_train.astype('float') / 255\n",
    "x_test = X_test.astype('float') / 255\n",
    "x = X_array.astype('float') / 255\n",
    "x_train.shape"
   ]
  },
  {
   "cell_type": "markdown",
   "metadata": {
    "id": "CpgAwwYi2g-k"
   },
   "source": [
    "## 3- Classification:\n",
    "\n",
    "Running Bayes Net algorithm on the dataset."
   ]
  },
  {
   "cell_type": "code",
   "execution_count": 10,
   "metadata": {
    "colab": {
     "base_uri": "https://localhost:8080/"
    },
    "id": "oIZUcjd80gqW",
    "outputId": "f7cd1138-9475-4eaf-c0b2-89ccf870fbc2"
   },
   "outputs": [
    {
     "name": "stderr",
     "output_type": "stream",
     "text": [
      "/Users/mohammedkhedr/anaconda3/envs/F21DL/lib/python3.8/site-packages/sklearn/utils/validation.py:72: DataConversionWarning: A column-vector y was passed when a 1d array was expected. Please change the shape of y to (n_samples, ), for example using ravel().\n",
      "  return f(**kwargs)\n"
     ]
    }
   ],
   "source": [
    "#Learning using Bayes Net.\n",
    "from sklearn.naive_bayes import GaussianNB\n",
    "\n",
    "#Create a Gaussian Classifier\n",
    "gnb = GaussianNB()\n",
    "\n",
    "#Train the model using the training sets\n",
    "gnb.fit(x_train, y_train)\n",
    "\n",
    "#Predict the response for test dataset\n",
    "y_pred = gnb.predict(x_test)\n",
    "#https://www.datacamp.com/community/tutorials/naive-bayes-scikit-learn"
   ]
  },
  {
   "cell_type": "markdown",
   "metadata": {
    "id": "jd9MsCEK26AR"
   },
   "source": [
    "Calculating the accuracy for the classification."
   ]
  },
  {
   "cell_type": "code",
   "execution_count": 13,
   "metadata": {
    "colab": {
     "base_uri": "https://localhost:8080/"
    },
    "id": "dodwL9aa0gqY",
    "outputId": "67c1613f-249d-4134-fc0b-446134fb1434"
   },
   "outputs": [
    {
     "name": "stdout",
     "output_type": "stream",
     "text": [
      "Accuracy: 24.01981015270326 %\n"
     ]
    }
   ],
   "source": [
    "from sklearn import metrics\n",
    "\n",
    "print(\"Accuracy:\",metrics.accuracy_score(y_test, y_pred)*100,\"%\")\n",
    "#https://www.datacamp.com/community/tutorials/naive-bayes-scikit-learn"
   ]
  },
  {
   "cell_type": "markdown",
   "metadata": {
    "id": "pQkHRiGb3Dka"
   },
   "source": [
    "## 4- Feature Selection:\n",
    "\n",
    "We will add the label to the dataset and then we will calculate the correlation matrix. Finally, we will find the highest 10 correlating features(pixels) with the target (Label)."
   ]
  },
  {
   "cell_type": "code",
   "execution_count": 14,
   "metadata": {
    "id": "WxYXOuRV0gqa"
   },
   "outputs": [],
   "source": [
    "#Creating a new pandas dataframe including the target\n",
    "data = X\n",
    "data['Label'] = y"
   ]
  },
  {
   "cell_type": "code",
   "execution_count": 15,
   "metadata": {
    "id": "UijjSxA30gqc"
   },
   "outputs": [
    {
     "data": {
      "text/plain": [
       "Label    1.000000\n",
       "1263     0.404019\n",
       "1215     0.400836\n",
       "1167     0.382932\n",
       "1216     0.380611\n",
       "           ...   \n",
       "1652     0.200918\n",
       "839      0.200594\n",
       "1911     0.200230\n",
       "1835     0.200175\n",
       "1743     0.200155\n",
       "Name: Label, Length: 291, dtype: float64"
      ]
     },
     "execution_count": 15,
     "metadata": {},
     "output_type": "execute_result"
    }
   ],
   "source": [
    "#find the correlation matrix of all features with the target\n",
    "corr_matrix = np.abs(data.corr())\n",
    "cor_target = corr_matrix[\"Label\"].sort_values(ascending=False)\n",
    "top_features = cor_target[cor_target>0.2]\n",
    "top_features"
   ]
  },
  {
   "cell_type": "code",
   "execution_count": 16,
   "metadata": {
    "colab": {
     "base_uri": "https://localhost:8080/"
    },
    "id": "NcyGpjAP0gqe",
    "outputId": "f2d0ef05-41a9-4ecb-9f40-53962820412a"
   },
   "outputs": [
    {
     "data": {
      "text/plain": [
       "Index(['1263', '1215', '1167', '1216', '746', '1311', '1262', '1086', '747',\n",
       "       '1310'],\n",
       "      dtype='object')"
      ]
     },
     "execution_count": 16,
     "metadata": {},
     "output_type": "execute_result"
    }
   ],
   "source": [
    "#finding top 10 pixels\n",
    "top_10 = top_features.drop(['Label'])\n",
    "top_10_features = top_10.head(10).index\n",
    "top_10_features"
   ]
  },
  {
   "cell_type": "markdown",
   "metadata": {
    "id": "PMlxrIEg4l10"
   },
   "source": [
    "Now by using the same previous method, we will find the top 5, 10 and 20 features for each class."
   ]
  },
  {
   "cell_type": "code",
   "execution_count": 17,
   "metadata": {
    "colab": {
     "base_uri": "https://localhost:8080/",
     "height": 251
    },
    "id": "4sDRibma0gqi",
    "outputId": "23be72fc-8a79-48fc-8fec-288e17dd2f0c"
   },
   "outputs": [
    {
     "data": {
      "text/html": [
       "<div>\n",
       "<style scoped>\n",
       "    .dataframe tbody tr th:only-of-type {\n",
       "        vertical-align: middle;\n",
       "    }\n",
       "\n",
       "    .dataframe tbody tr th {\n",
       "        vertical-align: top;\n",
       "    }\n",
       "\n",
       "    .dataframe thead th {\n",
       "        text-align: right;\n",
       "    }\n",
       "</style>\n",
       "<table border=\"1\" class=\"dataframe\">\n",
       "  <thead>\n",
       "    <tr style=\"text-align: right;\">\n",
       "      <th></th>\n",
       "      <th>0</th>\n",
       "      <th>1</th>\n",
       "      <th>2</th>\n",
       "      <th>3</th>\n",
       "      <th>4</th>\n",
       "      <th>5</th>\n",
       "      <th>6</th>\n",
       "      <th>7</th>\n",
       "      <th>8</th>\n",
       "      <th>9</th>\n",
       "      <th>...</th>\n",
       "      <th>2296</th>\n",
       "      <th>2297</th>\n",
       "      <th>2298</th>\n",
       "      <th>2299</th>\n",
       "      <th>2300</th>\n",
       "      <th>2301</th>\n",
       "      <th>2302</th>\n",
       "      <th>2303</th>\n",
       "      <th>Label</th>\n",
       "      <th>Class_0</th>\n",
       "    </tr>\n",
       "  </thead>\n",
       "  <tbody>\n",
       "    <tr>\n",
       "      <th>0</th>\n",
       "      <td>78.0</td>\n",
       "      <td>77.0</td>\n",
       "      <td>76.0</td>\n",
       "      <td>82.0</td>\n",
       "      <td>87.0</td>\n",
       "      <td>92.0</td>\n",
       "      <td>104.0</td>\n",
       "      <td>119.0</td>\n",
       "      <td>117.0</td>\n",
       "      <td>120.0</td>\n",
       "      <td>...</td>\n",
       "      <td>72.0</td>\n",
       "      <td>76.0</td>\n",
       "      <td>83.0</td>\n",
       "      <td>95.0</td>\n",
       "      <td>99.0</td>\n",
       "      <td>98.0</td>\n",
       "      <td>95.0</td>\n",
       "      <td>94.0</td>\n",
       "      <td>0</td>\n",
       "      <td>0</td>\n",
       "    </tr>\n",
       "    <tr>\n",
       "      <th>1</th>\n",
       "      <td>73.0</td>\n",
       "      <td>75.0</td>\n",
       "      <td>79.0</td>\n",
       "      <td>78.0</td>\n",
       "      <td>76.0</td>\n",
       "      <td>75.0</td>\n",
       "      <td>89.0</td>\n",
       "      <td>107.0</td>\n",
       "      <td>133.0</td>\n",
       "      <td>125.0</td>\n",
       "      <td>...</td>\n",
       "      <td>85.0</td>\n",
       "      <td>77.0</td>\n",
       "      <td>69.0</td>\n",
       "      <td>73.0</td>\n",
       "      <td>83.0</td>\n",
       "      <td>100.0</td>\n",
       "      <td>101.0</td>\n",
       "      <td>101.0</td>\n",
       "      <td>0</td>\n",
       "      <td>0</td>\n",
       "    </tr>\n",
       "    <tr>\n",
       "      <th>2</th>\n",
       "      <td>72.0</td>\n",
       "      <td>75.0</td>\n",
       "      <td>79.0</td>\n",
       "      <td>77.0</td>\n",
       "      <td>81.0</td>\n",
       "      <td>89.0</td>\n",
       "      <td>105.0</td>\n",
       "      <td>109.0</td>\n",
       "      <td>86.0</td>\n",
       "      <td>90.0</td>\n",
       "      <td>...</td>\n",
       "      <td>88.0</td>\n",
       "      <td>80.0</td>\n",
       "      <td>73.0</td>\n",
       "      <td>71.0</td>\n",
       "      <td>74.0</td>\n",
       "      <td>80.0</td>\n",
       "      <td>89.0</td>\n",
       "      <td>95.0</td>\n",
       "      <td>0</td>\n",
       "      <td>0</td>\n",
       "    </tr>\n",
       "    <tr>\n",
       "      <th>3</th>\n",
       "      <td>67.0</td>\n",
       "      <td>70.0</td>\n",
       "      <td>74.0</td>\n",
       "      <td>80.0</td>\n",
       "      <td>93.0</td>\n",
       "      <td>107.0</td>\n",
       "      <td>110.0</td>\n",
       "      <td>96.0</td>\n",
       "      <td>69.0</td>\n",
       "      <td>100.0</td>\n",
       "      <td>...</td>\n",
       "      <td>87.0</td>\n",
       "      <td>82.0</td>\n",
       "      <td>77.0</td>\n",
       "      <td>72.0</td>\n",
       "      <td>70.0</td>\n",
       "      <td>72.0</td>\n",
       "      <td>81.0</td>\n",
       "      <td>88.0</td>\n",
       "      <td>0</td>\n",
       "      <td>0</td>\n",
       "    </tr>\n",
       "    <tr>\n",
       "      <th>4</th>\n",
       "      <td>74.0</td>\n",
       "      <td>74.0</td>\n",
       "      <td>73.0</td>\n",
       "      <td>72.0</td>\n",
       "      <td>77.0</td>\n",
       "      <td>87.0</td>\n",
       "      <td>104.0</td>\n",
       "      <td>109.0</td>\n",
       "      <td>84.0</td>\n",
       "      <td>83.0</td>\n",
       "      <td>...</td>\n",
       "      <td>99.0</td>\n",
       "      <td>100.0</td>\n",
       "      <td>99.0</td>\n",
       "      <td>89.0</td>\n",
       "      <td>78.0</td>\n",
       "      <td>66.0</td>\n",
       "      <td>68.0</td>\n",
       "      <td>72.0</td>\n",
       "      <td>0</td>\n",
       "      <td>0</td>\n",
       "    </tr>\n",
       "  </tbody>\n",
       "</table>\n",
       "<p>5 rows × 2306 columns</p>\n",
       "</div>"
      ],
      "text/plain": [
       "      0     1     2     3     4      5      6      7      8      9  ...  2296  \\\n",
       "0  78.0  77.0  76.0  82.0  87.0   92.0  104.0  119.0  117.0  120.0  ...  72.0   \n",
       "1  73.0  75.0  79.0  78.0  76.0   75.0   89.0  107.0  133.0  125.0  ...  85.0   \n",
       "2  72.0  75.0  79.0  77.0  81.0   89.0  105.0  109.0   86.0   90.0  ...  88.0   \n",
       "3  67.0  70.0  74.0  80.0  93.0  107.0  110.0   96.0   69.0  100.0  ...  87.0   \n",
       "4  74.0  74.0  73.0  72.0  77.0   87.0  104.0  109.0   84.0   83.0  ...  99.0   \n",
       "\n",
       "    2297  2298  2299  2300   2301   2302   2303  Label  Class_0  \n",
       "0   76.0  83.0  95.0  99.0   98.0   95.0   94.0      0        0  \n",
       "1   77.0  69.0  73.0  83.0  100.0  101.0  101.0      0        0  \n",
       "2   80.0  73.0  71.0  74.0   80.0   89.0   95.0      0        0  \n",
       "3   82.0  77.0  72.0  70.0   72.0   81.0   88.0      0        0  \n",
       "4  100.0  99.0  89.0  78.0   66.0   68.0   72.0      0        0  \n",
       "\n",
       "[5 rows x 2306 columns]"
      ]
     },
     "execution_count": 17,
     "metadata": {},
     "output_type": "execute_result"
    }
   ],
   "source": [
    "#Adding the Label for the first class for one-vs-rest classification to the pandas dataframe.\n",
    "data['Class_0'] = y0\n",
    "data.head()"
   ]
  },
  {
   "cell_type": "code",
   "execution_count": 18,
   "metadata": {
    "id": "4f9dek2S0gqr"
   },
   "outputs": [],
   "source": [
    "corr_matrix = np.abs(data.corr())\n",
    "cor_target = corr_matrix[\"Class_0\"].sort_values(ascending=False)\n",
    "top_features_0 = cor_target[cor_target>0.1]"
   ]
  },
  {
   "cell_type": "code",
   "execution_count": 19,
   "metadata": {
    "colab": {
     "base_uri": "https://localhost:8080/"
    },
    "id": "mIdT8aP50gqt",
    "outputId": "c4a647aa-f444-4859-aa46-64707084a851"
   },
   "outputs": [
    {
     "data": {
      "text/plain": [
       "Index(['2261', '2262', '2263', '2213', '2260'], dtype='object')"
      ]
     },
     "execution_count": 19,
     "metadata": {},
     "output_type": "execute_result"
    }
   ],
   "source": [
    "t05 = top_features_0.drop(['Label','Class_0'])\n",
    "pixels_0_5 = t05.head(5).index\n",
    "pixels_0_5"
   ]
  },
  {
   "cell_type": "code",
   "execution_count": 20,
   "metadata": {
    "colab": {
     "base_uri": "https://localhost:8080/"
    },
    "id": "bSo32tXh0gqv",
    "outputId": "e4581b26-79bc-4075-8725-a105e1f9f956"
   },
   "outputs": [
    {
     "data": {
      "text/plain": [
       "Index(['2261', '2262', '2263', '2213', '2260', '2212', '2214', '2264', '2215',\n",
       "       '2165'],\n",
       "      dtype='object')"
      ]
     },
     "execution_count": 20,
     "metadata": {},
     "output_type": "execute_result"
    }
   ],
   "source": [
    "t010 = top_features_0.drop(['Label','Class_0'])\n",
    "pixels_0_10 = t010.head(10).index\n",
    "pixels_0_10"
   ]
  },
  {
   "cell_type": "code",
   "execution_count": 21,
   "metadata": {
    "colab": {
     "base_uri": "https://localhost:8080/"
    },
    "id": "Oe3mOsTe0gqx",
    "outputId": "274c2256-192b-45c8-b9cb-34973d7c86ae"
   },
   "outputs": [
    {
     "data": {
      "text/plain": [
       "Index(['2261', '2262', '2263', '2213', '2260', '2212', '2214', '2264', '2215',\n",
       "       '2165', '2216', '2164', '1979', '2028', '2166', '2027', '2259', '2025',\n",
       "       '2026', '2211'],\n",
       "      dtype='object')"
      ]
     },
     "execution_count": 21,
     "metadata": {},
     "output_type": "execute_result"
    }
   ],
   "source": [
    "t020 = top_features_0.drop(['Label','Class_0'])\n",
    "pixels_0_20 = t020.head(20).index\n",
    "pixels_0_20"
   ]
  },
  {
   "cell_type": "code",
   "execution_count": 22,
   "metadata": {
    "id": "l4iEWY5O0gqz"
   },
   "outputs": [
    {
     "data": {
      "text/plain": [
       "Class_1    1.000000\n",
       "Label      0.538029\n",
       "1073       0.377106\n",
       "1121       0.365046\n",
       "1120       0.364920\n",
       "1074       0.360629\n",
       "1072       0.350379\n",
       "1168       0.350274\n",
       "1025       0.332318\n",
       "1167       0.331780\n",
       "1026       0.329635\n",
       "1119       0.327653\n",
       "1216       0.324858\n",
       "Name: Class_1, dtype: float64"
      ]
     },
     "execution_count": 22,
     "metadata": {},
     "output_type": "execute_result"
    }
   ],
   "source": [
    "data['Class_1'] = y1\n",
    "corr_matrix = np.abs(data.corr())\n",
    "top_features_1 = corr_matrix[\"Class_1\"].sort_values(ascending=False)\n",
    "top_features_1.head(13)"
   ]
  },
  {
   "cell_type": "code",
   "execution_count": 23,
   "metadata": {
    "id": "NvZorSHv0gq1",
    "outputId": "81f38b8d-cc8d-4c64-bcf9-101c11ef72a4"
   },
   "outputs": [
    {
     "data": {
      "text/plain": [
       "Index(['1073', '1121', '1120', '1074', '1072'], dtype='object')"
      ]
     },
     "execution_count": 23,
     "metadata": {},
     "output_type": "execute_result"
    }
   ],
   "source": [
    "t15 = top_features_1.drop(['Label','Class_0','Class_1'])\n",
    "pixels_1_5 = t15.head(5).index\n",
    "pixels_1_5"
   ]
  },
  {
   "cell_type": "code",
   "execution_count": 24,
   "metadata": {
    "id": "Gr1-ECRr0gq3",
    "outputId": "c5d394a6-7f72-4517-d34f-0f1c9cbadba5"
   },
   "outputs": [
    {
     "data": {
      "text/plain": [
       "Index(['1073', '1121', '1120', '1074', '1072', '1168', '1025', '1167', '1026',\n",
       "       '1119'],\n",
       "      dtype='object')"
      ]
     },
     "execution_count": 24,
     "metadata": {},
     "output_type": "execute_result"
    }
   ],
   "source": [
    "t110 = top_features_1.drop(['Label','Class_0','Class_1'])\n",
    "pixels_1_10 = t110.head(10).index\n",
    "pixels_1_10"
   ]
  },
  {
   "cell_type": "code",
   "execution_count": 25,
   "metadata": {
    "id": "MTJCllW90gq5",
    "outputId": "367da814-42f5-4cc2-a527-bb77dad8a6f8"
   },
   "outputs": [
    {
     "data": {
      "text/plain": [
       "Index(['1073', '1121', '1120', '1074', '1072', '1168', '1025', '1167', '1026',\n",
       "       '1119', '1216', '1215', '1263', '1262', '1071', '1214', '1169', '1310',\n",
       "       '1024', '1264'],\n",
       "      dtype='object')"
      ]
     },
     "execution_count": 25,
     "metadata": {},
     "output_type": "execute_result"
    }
   ],
   "source": [
    "t120 = top_features_1.drop(['Label','Class_0','Class_1'])\n",
    "pixels_1_20 = t120.head(20).index\n",
    "pixels_1_20"
   ]
  },
  {
   "cell_type": "code",
   "execution_count": 26,
   "metadata": {
    "id": "Qc7q04RX0gq6",
    "outputId": "203ad679-1921-4fab-d399-f252230884f4"
   },
   "outputs": [
    {
     "data": {
      "text/plain": [
       "Class_2    1.000000\n",
       "1316       0.302777\n",
       "1030       0.302559\n",
       "Class_1    0.299793\n",
       "1317       0.299426\n",
       "1268       0.293152\n",
       "Label      0.290141\n",
       "1269       0.289142\n",
       "982        0.274233\n",
       "1364       0.273505\n",
       "1315       0.268385\n",
       "1365       0.262070\n",
       "1031       0.260240\n",
       "Name: Class_2, dtype: float64"
      ]
     },
     "execution_count": 26,
     "metadata": {},
     "output_type": "execute_result"
    }
   ],
   "source": [
    "data['Class_2'] = y2\n",
    "corr_matrix = np.abs(data.corr())\n",
    "top_features_2 = corr_matrix[\"Class_2\"].sort_values(ascending=False)\n",
    "top_features_2.head(13)"
   ]
  },
  {
   "cell_type": "code",
   "execution_count": 27,
   "metadata": {
    "id": "owcPmEBl0gq9",
    "outputId": "aff2c0c5-4d81-49df-fb3e-82e9f7b12934"
   },
   "outputs": [
    {
     "data": {
      "text/plain": [
       "Index(['1316', '1030', '1317', '1268', '1269'], dtype='object')"
      ]
     },
     "execution_count": 27,
     "metadata": {},
     "output_type": "execute_result"
    }
   ],
   "source": [
    "t25 = top_features_2.drop(['Label','Class_0','Class_1','Class_2'])\n",
    "pixels_2_5 = t25.head(5).index\n",
    "pixels_2_5"
   ]
  },
  {
   "cell_type": "code",
   "execution_count": 28,
   "metadata": {
    "id": "1xHNvNXU0gq_",
    "outputId": "71bc18f2-8df7-4af1-b00f-46bfe7db40bb"
   },
   "outputs": [
    {
     "data": {
      "text/plain": [
       "Index(['1316', '1030', '1317', '1268', '1269', '982', '1364', '1315', '1365',\n",
       "       '1031'],\n",
       "      dtype='object')"
      ]
     },
     "execution_count": 28,
     "metadata": {},
     "output_type": "execute_result"
    }
   ],
   "source": [
    "t210 = top_features_2.drop(['Label','Class_0','Class_1','Class_2'])\n",
    "pixels_2_10 = t210.head(10).index\n",
    "pixels_2_10"
   ]
  },
  {
   "cell_type": "code",
   "execution_count": 29,
   "metadata": {
    "id": "kNsWSkxc0grB",
    "outputId": "cd995958-f378-4f33-d97f-8a876bb112fd"
   },
   "outputs": [
    {
     "data": {
      "text/plain": [
       "Index(['1316', '1030', '1317', '1268', '1269', '982', '1364', '1315', '1365',\n",
       "       '1031', '981', '1029', '1363', '1267', '1314', '795', '843', '983',\n",
       "       '1563', '1135'],\n",
       "      dtype='object')"
      ]
     },
     "execution_count": 29,
     "metadata": {},
     "output_type": "execute_result"
    }
   ],
   "source": [
    "t220 = top_features_2.drop(['Label','Class_0','Class_1','Class_2'])\n",
    "pixels_2_20 = t220.head(20).index\n",
    "pixels_2_20"
   ]
  },
  {
   "cell_type": "code",
   "execution_count": 30,
   "metadata": {
    "id": "SXI9xMNh0grD",
    "outputId": "75618f76-b9f1-4a15-c86f-787678c1d07f"
   },
   "outputs": [
    {
     "data": {
      "text/plain": [
       "Class_3    1.000000\n",
       "1218       0.384021\n",
       "1265       0.382870\n",
       "1313       0.381290\n",
       "1266       0.379156\n",
       "1219       0.372860\n",
       "1361       0.371767\n",
       "1217       0.370317\n",
       "1312       0.366498\n",
       "1314       0.365307\n",
       "1171       0.362852\n",
       "1170       0.362269\n",
       "1360       0.361263\n",
       "1264       0.359537\n",
       "Name: Class_3, dtype: float64"
      ]
     },
     "execution_count": 30,
     "metadata": {},
     "output_type": "execute_result"
    }
   ],
   "source": [
    "data['Class_3'] = y3\n",
    "corr_matrix = np.abs(data.corr())\n",
    "top_features_3 = corr_matrix[\"Class_3\"].sort_values(ascending=False)\n",
    "top_features_3.head(14)"
   ]
  },
  {
   "cell_type": "code",
   "execution_count": 31,
   "metadata": {
    "id": "Q9G7CyQC0grF",
    "outputId": "f4c6dba5-1837-4824-818a-26cbabef0d6e"
   },
   "outputs": [
    {
     "data": {
      "text/plain": [
       "Index(['1218', '1265', '1313', '1266', '1219'], dtype='object')"
      ]
     },
     "execution_count": 31,
     "metadata": {},
     "output_type": "execute_result"
    }
   ],
   "source": [
    "t35 = top_features_3.drop(['Label','Class_0','Class_1','Class_2','Class_3'])\n",
    "pixels_3_5 = t35.head(5).index\n",
    "pixels_3_5"
   ]
  },
  {
   "cell_type": "code",
   "execution_count": 32,
   "metadata": {
    "id": "Ns16eC020grH",
    "outputId": "b5ab3502-ecb9-4c3a-d183-e4f43fc1c884"
   },
   "outputs": [
    {
     "data": {
      "text/plain": [
       "Index(['1218', '1265', '1313', '1266', '1219', '1361', '1217', '1312', '1314',\n",
       "       '1171'],\n",
       "      dtype='object')"
      ]
     },
     "execution_count": 32,
     "metadata": {},
     "output_type": "execute_result"
    }
   ],
   "source": [
    "t310 = top_features_3.drop(['Label','Class_0','Class_1','Class_2','Class_3'])\n",
    "pixels_3_10 = t310.head(10).index\n",
    "pixels_3_10"
   ]
  },
  {
   "cell_type": "code",
   "execution_count": 33,
   "metadata": {
    "id": "FtSshNjD0grJ",
    "outputId": "62ad5033-e42e-48a0-82fd-c093672e67cd"
   },
   "outputs": [
    {
     "data": {
      "text/plain": [
       "Index(['1218', '1265', '1313', '1266', '1219', '1361', '1217', '1312', '1314',\n",
       "       '1171', '1170', '1360', '1264', '1362', '1267', '1409', '1220', '1408',\n",
       "       '1172', '1216'],\n",
       "      dtype='object')"
      ]
     },
     "execution_count": 33,
     "metadata": {},
     "output_type": "execute_result"
    }
   ],
   "source": [
    "t320 = top_features_3.drop(['Label','Class_0','Class_1','Class_2','Class_3'])\n",
    "pixels_3_20 = t320.head(20).index\n",
    "pixels_3_20"
   ]
  },
  {
   "cell_type": "code",
   "execution_count": 34,
   "metadata": {
    "id": "Vne9-V-Q0grL",
    "outputId": "b906d88e-a91b-4b32-8909-e4bdc85938ec"
   },
   "outputs": [
    {
     "data": {
      "text/plain": [
       "Class_4    1.000000\n",
       "Class_2    0.278683\n",
       "Class_1    0.276262\n",
       "983        0.241325\n",
       "1031       0.229790\n",
       "1030       0.214960\n",
       "982        0.214856\n",
       "935        0.214670\n",
       "2139       0.210297\n",
       "2138       0.209465\n",
       "Class_3    0.209122\n",
       "2140       0.208740\n",
       "2095       0.207782\n",
       "2096       0.207736\n",
       "Name: Class_4, dtype: float64"
      ]
     },
     "execution_count": 34,
     "metadata": {},
     "output_type": "execute_result"
    }
   ],
   "source": [
    "data['Class_4'] = y4\n",
    "corr_matrix = np.abs(data.corr())\n",
    "top_features_4 = corr_matrix[\"Class_4\"].sort_values(ascending=False)\n",
    "top_features_4.head(14)"
   ]
  },
  {
   "cell_type": "code",
   "execution_count": 35,
   "metadata": {
    "id": "D1j7cSBJ0grN",
    "outputId": "d8357bec-4a01-471a-af2d-29f393563a65"
   },
   "outputs": [
    {
     "data": {
      "text/plain": [
       "Index(['983', '1031', '1030', '982', '935'], dtype='object')"
      ]
     },
     "execution_count": 35,
     "metadata": {},
     "output_type": "execute_result"
    }
   ],
   "source": [
    "t45 = top_features_4.drop(['Label','Class_0','Class_1','Class_2','Class_3','Class_4'])\n",
    "pixels_4_5 = t45.head(5).index\n",
    "pixels_4_5"
   ]
  },
  {
   "cell_type": "code",
   "execution_count": 36,
   "metadata": {
    "id": "szdq67hH0grO",
    "outputId": "a7ac684f-87fe-4223-c117-83795bc17c3f"
   },
   "outputs": [
    {
     "data": {
      "text/plain": [
       "Index(['983', '1031', '1030', '982', '935', '2139', '2138', '2140', '2095',\n",
       "       '2096'],\n",
       "      dtype='object')"
      ]
     },
     "execution_count": 36,
     "metadata": {},
     "output_type": "execute_result"
    }
   ],
   "source": [
    "t410 = top_features_4.drop(['Label','Class_0','Class_1','Class_2','Class_3','Class_4'])\n",
    "pixels_4_10 = t410.head(10).index\n",
    "pixels_4_10"
   ]
  },
  {
   "cell_type": "code",
   "execution_count": 37,
   "metadata": {
    "id": "sXaNhVFj0grQ",
    "outputId": "bc7bf7a0-e343-4128-f0b8-6ba2f463fd91"
   },
   "outputs": [
    {
     "data": {
      "text/plain": [
       "Index(['983', '1031', '1030', '982', '935', '2139', '2138', '2140', '2095',\n",
       "       '2096', '2141', '2050', '2186', '2094', '2097', '2049', '2142', '2270',\n",
       "       '2078', '2269'],\n",
       "      dtype='object')"
      ]
     },
     "execution_count": 37,
     "metadata": {},
     "output_type": "execute_result"
    }
   ],
   "source": [
    "t420 = top_features_4.drop(['Label','Class_0','Class_1','Class_2','Class_3','Class_4'])\n",
    "pixels_4_20 = t420.head(20).index\n",
    "pixels_4_20"
   ]
  },
  {
   "cell_type": "code",
   "execution_count": 38,
   "metadata": {
    "id": "W3H-0lnq0grS",
    "outputId": "e1708803-b010-4bfe-b8ca-f47d579898ae"
   },
   "outputs": [
    {
     "data": {
      "text/plain": [
       "Class_5    1.000000\n",
       "1743       0.150662\n",
       "1507       0.141511\n",
       "1744       0.139819\n",
       "1508       0.138948\n",
       "1742       0.138851\n",
       "1694       0.138699\n",
       "1695       0.138597\n",
       "1460       0.136975\n",
       "1714       0.135416\n",
       "1461       0.135156\n",
       "1761       0.132909\n",
       "1506       0.127905\n",
       "Label      0.126572\n",
       "Name: Class_5, dtype: float64"
      ]
     },
     "execution_count": 38,
     "metadata": {},
     "output_type": "execute_result"
    }
   ],
   "source": [
    "data['Class_5'] = y5\n",
    "corr_matrix = np.abs(data.corr())\n",
    "top_features_5 = corr_matrix[\"Class_5\"].sort_values(ascending=False)\n",
    "top_features_5.head(14)"
   ]
  },
  {
   "cell_type": "code",
   "execution_count": 39,
   "metadata": {
    "id": "NEMViWNm0grV",
    "outputId": "3782890c-96fd-4f47-df19-0473d906ce94"
   },
   "outputs": [
    {
     "data": {
      "text/plain": [
       "Index(['1743', '1507', '1744', '1508', '1742'], dtype='object')"
      ]
     },
     "execution_count": 39,
     "metadata": {},
     "output_type": "execute_result"
    }
   ],
   "source": [
    "t55 = top_features_5.drop(['Label','Class_0','Class_1','Class_2','Class_3','Class_4','Class_5'])\n",
    "pixels_5_5 = t55.head(5).index\n",
    "pixels_5_5"
   ]
  },
  {
   "cell_type": "code",
   "execution_count": 40,
   "metadata": {
    "id": "12mYB8E10grX",
    "outputId": "693775ef-66ff-40ae-8a72-c93e1b8bf5b6"
   },
   "outputs": [
    {
     "data": {
      "text/plain": [
       "Index(['1743', '1507', '1744', '1508', '1742', '1694', '1695', '1460', '1714',\n",
       "       '1461'],\n",
       "      dtype='object')"
      ]
     },
     "execution_count": 40,
     "metadata": {},
     "output_type": "execute_result"
    }
   ],
   "source": [
    "t510 = top_features_5.drop(['Label','Class_0','Class_1','Class_2','Class_3','Class_4','Class_5'])\n",
    "pixels_5_10 = t510.head(10).index\n",
    "pixels_5_10"
   ]
  },
  {
   "cell_type": "code",
   "execution_count": 41,
   "metadata": {
    "id": "h3EJSRMK0grZ",
    "outputId": "2a98d8df-ab9b-4004-a18d-00e8c6dca473"
   },
   "outputs": [
    {
     "data": {
      "text/plain": [
       "Index(['1743', '1507', '1744', '1508', '1742', '1694', '1695', '1460', '1714',\n",
       "       '1461', '1761', '1506', '1459', '1792', '1760', '1762', '1793', '1713',\n",
       "       '1791', '1808'],\n",
       "      dtype='object')"
      ]
     },
     "execution_count": 41,
     "metadata": {},
     "output_type": "execute_result"
    }
   ],
   "source": [
    "t520 = top_features_5.drop(['Label','Class_0','Class_1','Class_2','Class_3','Class_4','Class_5'])\n",
    "pixels_5_20 = t520.head(20).index\n",
    "pixels_5_20"
   ]
  },
  {
   "cell_type": "code",
   "execution_count": 42,
   "metadata": {
    "id": "xKNk_J6-0grb",
    "outputId": "8a8761e0-8e4e-46b8-a7cb-b85a7a0231a2"
   },
   "outputs": [
    {
     "data": {
      "text/plain": [
       "Class_6    1.000000\n",
       "Label      0.257276\n",
       "793        0.218689\n",
       "794        0.218310\n",
       "841        0.211094\n",
       "842        0.210112\n",
       "792        0.209435\n",
       "745        0.209244\n",
       "1134       0.207282\n",
       "795        0.206446\n",
       "744        0.206298\n",
       "1182       0.205510\n",
       "746        0.204662\n",
       "1086       0.202253\n",
       "Name: Class_6, dtype: float64"
      ]
     },
     "execution_count": 42,
     "metadata": {},
     "output_type": "execute_result"
    }
   ],
   "source": [
    "data['Class_6'] = y6\n",
    "corr_matrix = np.abs(data.corr())\n",
    "top_features_6 = corr_matrix[\"Class_6\"].sort_values(ascending=False)\n",
    "top_features_6.head(14)"
   ]
  },
  {
   "cell_type": "code",
   "execution_count": 43,
   "metadata": {
    "id": "w-s2vgm70grd",
    "outputId": "6965efbd-f963-4ecf-843a-35964e136e97"
   },
   "outputs": [
    {
     "data": {
      "text/plain": [
       "Index(['793', '794', '841', '842', '792'], dtype='object')"
      ]
     },
     "execution_count": 43,
     "metadata": {},
     "output_type": "execute_result"
    }
   ],
   "source": [
    "t65 = top_features_6.drop(['Label','Class_0','Class_1','Class_2','Class_3','Class_4','Class_5','Class_6'])\n",
    "pixels_6_5 = t65.head(5).index\n",
    "pixels_6_5"
   ]
  },
  {
   "cell_type": "code",
   "execution_count": 44,
   "metadata": {
    "id": "8FvUpMPi0grf",
    "outputId": "bc84a9ba-49bd-4edd-8e4c-e5fb073422a8"
   },
   "outputs": [
    {
     "data": {
      "text/plain": [
       "Index(['793', '794', '841', '842', '792', '745', '1134', '795', '744', '1182'], dtype='object')"
      ]
     },
     "execution_count": 44,
     "metadata": {},
     "output_type": "execute_result"
    }
   ],
   "source": [
    "t610 = top_features_6.drop(['Label','Class_0','Class_1','Class_2','Class_3','Class_4','Class_5','Class_6'])\n",
    "pixels_6_10 = t610.head(10).index\n",
    "pixels_6_10"
   ]
  },
  {
   "cell_type": "code",
   "execution_count": 45,
   "metadata": {
    "id": "5KEeKvVZ0grh",
    "outputId": "de46226e-7b98-4225-856c-e1b035cdf6dd"
   },
   "outputs": [
    {
     "data": {
      "text/plain": [
       "Index(['793', '794', '841', '842', '792', '745', '1134', '795', '744', '1182',\n",
       "       '746', '1086', '1133', '1085', '743', '791', '1181', '840', '1264',\n",
       "       '1230'],\n",
       "      dtype='object')"
      ]
     },
     "execution_count": 45,
     "metadata": {},
     "output_type": "execute_result"
    }
   ],
   "source": [
    "t620 = top_features_6.drop(['Label','Class_0','Class_1','Class_2','Class_3','Class_4','Class_5','Class_6'])\n",
    "pixels_6_20 = t620.head(20).index\n",
    "pixels_6_20"
   ]
  },
  {
   "cell_type": "code",
   "execution_count": 46,
   "metadata": {
    "id": "gSoAx4zm0grj",
    "outputId": "714d1da4-26c3-403c-bde4-d1a18e87f212"
   },
   "outputs": [
    {
     "data": {
      "text/plain": [
       "Class_7    1.000000\n",
       "Label      0.281929\n",
       "1761       0.178084\n",
       "1695       0.177458\n",
       "1743       0.177191\n",
       "1694       0.177128\n",
       "1714       0.174480\n",
       "1507       0.169512\n",
       "1744       0.169016\n",
       "1713       0.167874\n",
       "1760       0.165685\n",
       "1506       0.161747\n",
       "1762       0.160392\n",
       "1742       0.160074\n",
       "Name: Class_7, dtype: float64"
      ]
     },
     "execution_count": 46,
     "metadata": {},
     "output_type": "execute_result"
    }
   ],
   "source": [
    "data['Class_7'] = y7\n",
    "corr_matrix = np.abs(data.corr())\n",
    "top_features_7 = corr_matrix[\"Class_7\"].sort_values(ascending=False)\n",
    "top_features_7.head(14)"
   ]
  },
  {
   "cell_type": "code",
   "execution_count": 47,
   "metadata": {
    "id": "h82d-4Wz0grl",
    "outputId": "64ebec00-e736-40ec-db8f-e9eb1da5f31a"
   },
   "outputs": [
    {
     "data": {
      "text/plain": [
       "Index(['1761', '1695', '1743', '1694', '1714'], dtype='object')"
      ]
     },
     "execution_count": 47,
     "metadata": {},
     "output_type": "execute_result"
    }
   ],
   "source": [
    "t75 = top_features_7.drop(['Label','Class_0','Class_1','Class_2','Class_3',\n",
    "                           'Class_4','Class_5','Class_6','Class_7'])\n",
    "pixels_7_5 = t75.head(5).index\n",
    "pixels_7_5"
   ]
  },
  {
   "cell_type": "code",
   "execution_count": 48,
   "metadata": {
    "id": "TCcsAq8e0grn",
    "outputId": "e0ca9ee5-5480-4154-a187-87da6cab837e"
   },
   "outputs": [
    {
     "data": {
      "text/plain": [
       "Index(['1761', '1695', '1743', '1694', '1714', '1507', '1744', '1713', '1760',\n",
       "       '1506'],\n",
       "      dtype='object')"
      ]
     },
     "execution_count": 48,
     "metadata": {},
     "output_type": "execute_result"
    }
   ],
   "source": [
    "t710 = top_features_7.drop(['Label','Class_0','Class_1','Class_2','Class_3',\n",
    "                           'Class_4','Class_5','Class_6','Class_7'])\n",
    "pixels_7_10 = t710.head(10).index\n",
    "pixels_7_10"
   ]
  },
  {
   "cell_type": "code",
   "execution_count": 49,
   "metadata": {
    "id": "R48Nqe-W0grp",
    "outputId": "368d015a-e80c-4ccd-d710-7d255632d3dc"
   },
   "outputs": [
    {
     "data": {
      "text/plain": [
       "Index(['1761', '1695', '1743', '1694', '1714', '1507', '1744', '1713', '1760',\n",
       "       '1506', '1762', '1742', '1468', '1469', '1459', '1518', '1517', '1696',\n",
       "       '1460', '1646'],\n",
       "      dtype='object')"
      ]
     },
     "execution_count": 49,
     "metadata": {},
     "output_type": "execute_result"
    }
   ],
   "source": [
    "t720 = top_features_7.drop(['Label','Class_0','Class_1','Class_2','Class_3',\n",
    "                           'Class_4','Class_5','Class_6','Class_7'])\n",
    "pixels_7_20 = t720.head(20).index\n",
    "pixels_7_20"
   ]
  },
  {
   "cell_type": "code",
   "execution_count": 50,
   "metadata": {
    "id": "OGFdZAOZ0grr",
    "outputId": "04a2e1e4-0ec1-453e-df3e-867d5c7f860d"
   },
   "outputs": [
    {
     "data": {
      "text/plain": [
       "Class_8    1.000000\n",
       "Label      0.541359\n",
       "1714       0.366592\n",
       "1715       0.332909\n",
       "1666       0.327575\n",
       "1761       0.326057\n",
       "1743       0.325163\n",
       "1762       0.323259\n",
       "1667       0.321747\n",
       "1713       0.317782\n",
       "1694       0.312962\n",
       "1695       0.309810\n",
       "1744       0.305294\n",
       "1742       0.302661\n",
       "Name: Class_8, dtype: float64"
      ]
     },
     "execution_count": 50,
     "metadata": {},
     "output_type": "execute_result"
    }
   ],
   "source": [
    "data['Class_8'] = y8\n",
    "corr_matrix = np.abs(data.corr())\n",
    "top_features_8 = corr_matrix[\"Class_8\"].sort_values(ascending=False)\n",
    "top_features_8.head(14)"
   ]
  },
  {
   "cell_type": "code",
   "execution_count": 51,
   "metadata": {
    "id": "XDBgA2LK0grt",
    "outputId": "c5efd1bb-3ed4-45f2-df65-6a4b69fea310"
   },
   "outputs": [
    {
     "data": {
      "text/plain": [
       "Index(['1714', '1715', '1666', '1761', '1743'], dtype='object')"
      ]
     },
     "execution_count": 51,
     "metadata": {},
     "output_type": "execute_result"
    }
   ],
   "source": [
    "t85 = top_features_8.drop(['Label','Class_0','Class_1','Class_2','Class_3',\n",
    "                           'Class_4','Class_5','Class_6','Class_7','Class_8'])\n",
    "pixels_8_5 = t85.head(5).index\n",
    "pixels_8_5"
   ]
  },
  {
   "cell_type": "code",
   "execution_count": 52,
   "metadata": {
    "id": "67dKKC4u0grv",
    "outputId": "c56f0a3b-3203-4680-e7e9-ea66411edb67"
   },
   "outputs": [
    {
     "data": {
      "text/plain": [
       "Index(['1714', '1715', '1666', '1761', '1743', '1762', '1667', '1713', '1694',\n",
       "       '1695'],\n",
       "      dtype='object')"
      ]
     },
     "execution_count": 52,
     "metadata": {},
     "output_type": "execute_result"
    }
   ],
   "source": [
    "t810 = top_features_8.drop(['Label','Class_0','Class_1','Class_2','Class_3',\n",
    "                           'Class_4','Class_5','Class_6','Class_7','Class_8'])\n",
    "pixels_8_10 = t810.head(10).index\n",
    "pixels_8_10"
   ]
  },
  {
   "cell_type": "code",
   "execution_count": 53,
   "metadata": {
    "id": "v6FSQ4_p0grx",
    "outputId": "122c7f67-cbb7-4039-b056-d52da7015069"
   },
   "outputs": [
    {
     "data": {
      "text/plain": [
       "Index(['1714', '1715', '1666', '1761', '1743', '1762', '1667', '1713', '1694',\n",
       "       '1695', '1744', '1742', '1760', '1471', '1792', '1173', '1763', '1125',\n",
       "       '1791', '1696'],\n",
       "      dtype='object')"
      ]
     },
     "execution_count": 53,
     "metadata": {},
     "output_type": "execute_result"
    }
   ],
   "source": [
    "t820 = top_features_8.drop(['Label','Class_0','Class_1','Class_2','Class_3',\n",
    "                           'Class_4','Class_5','Class_6','Class_7','Class_8'])\n",
    "pixels_8_20 = t820.head(20).index\n",
    "pixels_8_20"
   ]
  },
  {
   "cell_type": "code",
   "execution_count": 54,
   "metadata": {
    "id": "11dEGVCE0gr0",
    "outputId": "6b8c8cbd-287d-4ca9-e885-40e2cfb3a7d8"
   },
   "outputs": [
    {
     "data": {
      "text/plain": [
       "Class_9    1.000000\n",
       "Label      0.455039\n",
       "1134       0.126627\n",
       "1215       0.125524\n",
       "1263       0.125210\n",
       "1086       0.123337\n",
       "1216       0.121931\n",
       "1167       0.121800\n",
       "1610       0.120403\n",
       "1562       0.119564\n",
       "1168       0.119562\n",
       "1561       0.118451\n",
       "1182       0.117562\n",
       "1311       0.117292\n",
       "Name: Class_9, dtype: float64"
      ]
     },
     "execution_count": 54,
     "metadata": {},
     "output_type": "execute_result"
    }
   ],
   "source": [
    "data['Class_9'] = y9\n",
    "corr_matrix = np.abs(data.corr())\n",
    "top_features_9 = corr_matrix[\"Class_9\"].sort_values(ascending=False)\n",
    "top_features_9.head(14)"
   ]
  },
  {
   "cell_type": "code",
   "execution_count": 55,
   "metadata": {
    "id": "zuHYkkS30gr2",
    "outputId": "c3855594-d8dc-4b12-d41b-a38754c5b714"
   },
   "outputs": [
    {
     "data": {
      "text/plain": [
       "Index(['1134', '1215', '1263', '1086', '1216'], dtype='object')"
      ]
     },
     "execution_count": 55,
     "metadata": {},
     "output_type": "execute_result"
    }
   ],
   "source": [
    "t95 = top_features_9.drop(['Label','Class_0','Class_1','Class_2','Class_3',\n",
    "                           'Class_4','Class_5','Class_6','Class_7','Class_8','Class_9'])\n",
    "pixels_9_5 = t95.head(5).index\n",
    "pixels_9_5"
   ]
  },
  {
   "cell_type": "code",
   "execution_count": 56,
   "metadata": {
    "id": "BHOSHw9q0gr4",
    "outputId": "c3aa8f77-831f-4196-ead3-da0756de6d3a"
   },
   "outputs": [
    {
     "data": {
      "text/plain": [
       "Index(['1134', '1215', '1263', '1086', '1216', '1167', '1610', '1562', '1168',\n",
       "       '1561'],\n",
       "      dtype='object')"
      ]
     },
     "execution_count": 56,
     "metadata": {},
     "output_type": "execute_result"
    }
   ],
   "source": [
    "t910 = top_features_9.drop(['Label','Class_0','Class_1','Class_2','Class_3',\n",
    "                           'Class_4','Class_5','Class_6','Class_7','Class_8','Class_9'])\n",
    "pixels_9_10 = t910.head(10).index\n",
    "pixels_9_10"
   ]
  },
  {
   "cell_type": "code",
   "execution_count": 57,
   "metadata": {
    "id": "wndKr-PP0gr6",
    "outputId": "af4eb0e8-3ba1-4a3d-9aa4-69800a9dfcf6"
   },
   "outputs": [
    {
     "data": {
      "text/plain": [
       "Index(['1134', '1215', '1263', '1086', '1216', '1167', '1610', '1562', '1168',\n",
       "       '1561', '1182', '1311', '794', '1183', '1120', '1119', '1264', '1262',\n",
       "       '1214', '1085'],\n",
       "      dtype='object')"
      ]
     },
     "execution_count": 57,
     "metadata": {},
     "output_type": "execute_result"
    }
   ],
   "source": [
    "t920 = top_features_9.drop(['Label','Class_0','Class_1','Class_2','Class_3',\n",
    "                           'Class_4','Class_5','Class_6','Class_7','Class_8','Class_9'])\n",
    "pixels_9_20 = t920.head(20).index\n",
    "pixels_9_20"
   ]
  },
  {
   "cell_type": "markdown",
   "metadata": {
    "id": "Gc8K3qoq6KOy"
   },
   "source": [
    "Now creating new datasets with top 5, 10 and 20 pixels from each class."
   ]
  },
  {
   "cell_type": "code",
   "execution_count": 58,
   "metadata": {
    "id": "5yfYQWEr0gr8"
   },
   "outputs": [],
   "source": [
    "top_5_pixels = pixels_0_5.append([pixels_1_5, pixels_2_5, pixels_3_5, pixels_4_5,\n",
    "                         pixels_5_5, pixels_6_5, pixels_7_5, pixels_8_5, pixels_9_5])\n",
    "top_5_pixels\n",
    "top_10_pixels = pixels_0_10.append([pixels_1_10, pixels_2_10, pixels_3_10, pixels_4_10,\n",
    "                         pixels_5_10, pixels_6_10, pixels_7_10, pixels_8_10, pixels_9_10])\n",
    "top_20_pixels = pixels_0_20.append([pixels_1_20, pixels_2_20, pixels_3_20, pixels_4_20,\n",
    "                         pixels_5_20, pixels_6_20, pixels_7_20, pixels_8_20, pixels_9_20])"
   ]
  },
  {
   "cell_type": "code",
   "execution_count": 59,
   "metadata": {
    "id": "f_AvuGYM0gr_"
   },
   "outputs": [],
   "source": [
    "data_new_5 = pd.DataFrame(data, columns = top_5_pixels) \n",
    "data_new_10 = pd.DataFrame(data, columns = top_10_pixels) \n",
    "data_new_20 = pd.DataFrame(data, columns = top_20_pixels) "
   ]
  },
  {
   "cell_type": "code",
   "execution_count": 61,
   "metadata": {
    "id": "HN4MJqZE0gsA",
    "outputId": "c2582e98-85bd-4c23-efab-2cec70958c75"
   },
   "outputs": [
    {
     "data": {
      "text/html": [
       "<div>\n",
       "<style scoped>\n",
       "    .dataframe tbody tr th:only-of-type {\n",
       "        vertical-align: middle;\n",
       "    }\n",
       "\n",
       "    .dataframe tbody tr th {\n",
       "        vertical-align: top;\n",
       "    }\n",
       "\n",
       "    .dataframe thead th {\n",
       "        text-align: right;\n",
       "    }\n",
       "</style>\n",
       "<table border=\"1\" class=\"dataframe\">\n",
       "  <thead>\n",
       "    <tr style=\"text-align: right;\">\n",
       "      <th></th>\n",
       "      <th>2261</th>\n",
       "      <th>2262</th>\n",
       "      <th>2263</th>\n",
       "      <th>2213</th>\n",
       "      <th>2260</th>\n",
       "      <th>2212</th>\n",
       "      <th>2214</th>\n",
       "      <th>2264</th>\n",
       "      <th>2215</th>\n",
       "      <th>2165</th>\n",
       "      <th>...</th>\n",
       "      <th>1182</th>\n",
       "      <th>1311</th>\n",
       "      <th>794</th>\n",
       "      <th>1183</th>\n",
       "      <th>1120</th>\n",
       "      <th>1119</th>\n",
       "      <th>1264</th>\n",
       "      <th>1262</th>\n",
       "      <th>1214</th>\n",
       "      <th>1085</th>\n",
       "    </tr>\n",
       "  </thead>\n",
       "  <tbody>\n",
       "    <tr>\n",
       "      <th>count</th>\n",
       "      <td>9690.000000</td>\n",
       "      <td>9690.000000</td>\n",
       "      <td>9690.000000</td>\n",
       "      <td>9690.000000</td>\n",
       "      <td>9690.000000</td>\n",
       "      <td>9690.000000</td>\n",
       "      <td>9690.000000</td>\n",
       "      <td>9690.000000</td>\n",
       "      <td>9690.000000</td>\n",
       "      <td>9690.000000</td>\n",
       "      <td>...</td>\n",
       "      <td>9690.000000</td>\n",
       "      <td>9690.000000</td>\n",
       "      <td>9690.000000</td>\n",
       "      <td>9690.000000</td>\n",
       "      <td>9690.000000</td>\n",
       "      <td>9690.000000</td>\n",
       "      <td>9690.000000</td>\n",
       "      <td>9690.000000</td>\n",
       "      <td>9690.000000</td>\n",
       "      <td>9690.000000</td>\n",
       "    </tr>\n",
       "    <tr>\n",
       "      <th>mean</th>\n",
       "      <td>69.633953</td>\n",
       "      <td>69.789990</td>\n",
       "      <td>70.158411</td>\n",
       "      <td>69.664190</td>\n",
       "      <td>69.291434</td>\n",
       "      <td>69.547472</td>\n",
       "      <td>69.729205</td>\n",
       "      <td>70.510114</td>\n",
       "      <td>69.891125</td>\n",
       "      <td>69.833437</td>\n",
       "      <td>...</td>\n",
       "      <td>122.662023</td>\n",
       "      <td>114.486378</td>\n",
       "      <td>126.857585</td>\n",
       "      <td>108.921672</td>\n",
       "      <td>111.068421</td>\n",
       "      <td>113.082147</td>\n",
       "      <td>120.822807</td>\n",
       "      <td>109.827657</td>\n",
       "      <td>110.943034</td>\n",
       "      <td>118.628483</td>\n",
       "    </tr>\n",
       "    <tr>\n",
       "      <th>std</th>\n",
       "      <td>63.579039</td>\n",
       "      <td>63.677247</td>\n",
       "      <td>63.944189</td>\n",
       "      <td>63.292982</td>\n",
       "      <td>63.367554</td>\n",
       "      <td>63.251002</td>\n",
       "      <td>63.357556</td>\n",
       "      <td>64.019885</td>\n",
       "      <td>63.357581</td>\n",
       "      <td>63.433966</td>\n",
       "      <td>...</td>\n",
       "      <td>73.276474</td>\n",
       "      <td>77.452315</td>\n",
       "      <td>75.877134</td>\n",
       "      <td>71.014316</td>\n",
       "      <td>74.151891</td>\n",
       "      <td>74.969273</td>\n",
       "      <td>77.944398</td>\n",
       "      <td>76.607147</td>\n",
       "      <td>76.250810</td>\n",
       "      <td>71.895002</td>\n",
       "    </tr>\n",
       "    <tr>\n",
       "      <th>min</th>\n",
       "      <td>4.000000</td>\n",
       "      <td>4.000000</td>\n",
       "      <td>4.000000</td>\n",
       "      <td>5.000000</td>\n",
       "      <td>4.000000</td>\n",
       "      <td>4.000000</td>\n",
       "      <td>4.000000</td>\n",
       "      <td>4.000000</td>\n",
       "      <td>4.000000</td>\n",
       "      <td>4.000000</td>\n",
       "      <td>...</td>\n",
       "      <td>7.000000</td>\n",
       "      <td>5.000000</td>\n",
       "      <td>5.000000</td>\n",
       "      <td>5.000000</td>\n",
       "      <td>5.000000</td>\n",
       "      <td>5.000000</td>\n",
       "      <td>6.000000</td>\n",
       "      <td>5.000000</td>\n",
       "      <td>5.000000</td>\n",
       "      <td>6.000000</td>\n",
       "    </tr>\n",
       "    <tr>\n",
       "      <th>25%</th>\n",
       "      <td>27.000000</td>\n",
       "      <td>27.000000</td>\n",
       "      <td>27.000000</td>\n",
       "      <td>27.000000</td>\n",
       "      <td>27.000000</td>\n",
       "      <td>27.000000</td>\n",
       "      <td>27.000000</td>\n",
       "      <td>27.000000</td>\n",
       "      <td>26.000000</td>\n",
       "      <td>27.000000</td>\n",
       "      <td>...</td>\n",
       "      <td>61.000000</td>\n",
       "      <td>49.000000</td>\n",
       "      <td>60.000000</td>\n",
       "      <td>50.000000</td>\n",
       "      <td>49.000000</td>\n",
       "      <td>51.000000</td>\n",
       "      <td>54.000000</td>\n",
       "      <td>47.000000</td>\n",
       "      <td>48.000000</td>\n",
       "      <td>59.000000</td>\n",
       "    </tr>\n",
       "    <tr>\n",
       "      <th>50%</th>\n",
       "      <td>46.000000</td>\n",
       "      <td>46.000000</td>\n",
       "      <td>46.000000</td>\n",
       "      <td>46.000000</td>\n",
       "      <td>45.000000</td>\n",
       "      <td>46.000000</td>\n",
       "      <td>46.000000</td>\n",
       "      <td>46.000000</td>\n",
       "      <td>46.000000</td>\n",
       "      <td>46.000000</td>\n",
       "      <td>...</td>\n",
       "      <td>109.000000</td>\n",
       "      <td>94.000000</td>\n",
       "      <td>113.000000</td>\n",
       "      <td>93.000000</td>\n",
       "      <td>92.000000</td>\n",
       "      <td>92.000000</td>\n",
       "      <td>101.000000</td>\n",
       "      <td>87.000000</td>\n",
       "      <td>89.000000</td>\n",
       "      <td>102.000000</td>\n",
       "    </tr>\n",
       "    <tr>\n",
       "      <th>75%</th>\n",
       "      <td>86.000000</td>\n",
       "      <td>86.000000</td>\n",
       "      <td>88.000000</td>\n",
       "      <td>86.000000</td>\n",
       "      <td>85.000000</td>\n",
       "      <td>86.000000</td>\n",
       "      <td>86.000000</td>\n",
       "      <td>89.000000</td>\n",
       "      <td>87.000000</td>\n",
       "      <td>86.000000</td>\n",
       "      <td>...</td>\n",
       "      <td>175.750000</td>\n",
       "      <td>171.000000</td>\n",
       "      <td>185.000000</td>\n",
       "      <td>154.000000</td>\n",
       "      <td>164.000000</td>\n",
       "      <td>165.000000</td>\n",
       "      <td>184.000000</td>\n",
       "      <td>161.000000</td>\n",
       "      <td>163.000000</td>\n",
       "      <td>167.000000</td>\n",
       "    </tr>\n",
       "    <tr>\n",
       "      <th>max</th>\n",
       "      <td>255.000000</td>\n",
       "      <td>255.000000</td>\n",
       "      <td>255.000000</td>\n",
       "      <td>255.000000</td>\n",
       "      <td>255.000000</td>\n",
       "      <td>255.000000</td>\n",
       "      <td>255.000000</td>\n",
       "      <td>255.000000</td>\n",
       "      <td>255.000000</td>\n",
       "      <td>255.000000</td>\n",
       "      <td>...</td>\n",
       "      <td>255.000000</td>\n",
       "      <td>255.000000</td>\n",
       "      <td>255.000000</td>\n",
       "      <td>255.000000</td>\n",
       "      <td>255.000000</td>\n",
       "      <td>255.000000</td>\n",
       "      <td>255.000000</td>\n",
       "      <td>255.000000</td>\n",
       "      <td>255.000000</td>\n",
       "      <td>255.000000</td>\n",
       "    </tr>\n",
       "  </tbody>\n",
       "</table>\n",
       "<p>8 rows × 200 columns</p>\n",
       "</div>"
      ],
      "text/plain": [
       "              2261         2262         2263         2213         2260  \\\n",
       "count  9690.000000  9690.000000  9690.000000  9690.000000  9690.000000   \n",
       "mean     69.633953    69.789990    70.158411    69.664190    69.291434   \n",
       "std      63.579039    63.677247    63.944189    63.292982    63.367554   \n",
       "min       4.000000     4.000000     4.000000     5.000000     4.000000   \n",
       "25%      27.000000    27.000000    27.000000    27.000000    27.000000   \n",
       "50%      46.000000    46.000000    46.000000    46.000000    45.000000   \n",
       "75%      86.000000    86.000000    88.000000    86.000000    85.000000   \n",
       "max     255.000000   255.000000   255.000000   255.000000   255.000000   \n",
       "\n",
       "              2212         2214         2264         2215         2165  ...  \\\n",
       "count  9690.000000  9690.000000  9690.000000  9690.000000  9690.000000  ...   \n",
       "mean     69.547472    69.729205    70.510114    69.891125    69.833437  ...   \n",
       "std      63.251002    63.357556    64.019885    63.357581    63.433966  ...   \n",
       "min       4.000000     4.000000     4.000000     4.000000     4.000000  ...   \n",
       "25%      27.000000    27.000000    27.000000    26.000000    27.000000  ...   \n",
       "50%      46.000000    46.000000    46.000000    46.000000    46.000000  ...   \n",
       "75%      86.000000    86.000000    89.000000    87.000000    86.000000  ...   \n",
       "max     255.000000   255.000000   255.000000   255.000000   255.000000  ...   \n",
       "\n",
       "              1182         1311          794         1183         1120  \\\n",
       "count  9690.000000  9690.000000  9690.000000  9690.000000  9690.000000   \n",
       "mean    122.662023   114.486378   126.857585   108.921672   111.068421   \n",
       "std      73.276474    77.452315    75.877134    71.014316    74.151891   \n",
       "min       7.000000     5.000000     5.000000     5.000000     5.000000   \n",
       "25%      61.000000    49.000000    60.000000    50.000000    49.000000   \n",
       "50%     109.000000    94.000000   113.000000    93.000000    92.000000   \n",
       "75%     175.750000   171.000000   185.000000   154.000000   164.000000   \n",
       "max     255.000000   255.000000   255.000000   255.000000   255.000000   \n",
       "\n",
       "              1119         1264         1262         1214         1085  \n",
       "count  9690.000000  9690.000000  9690.000000  9690.000000  9690.000000  \n",
       "mean    113.082147   120.822807   109.827657   110.943034   118.628483  \n",
       "std      74.969273    77.944398    76.607147    76.250810    71.895002  \n",
       "min       5.000000     6.000000     5.000000     5.000000     6.000000  \n",
       "25%      51.000000    54.000000    47.000000    48.000000    59.000000  \n",
       "50%      92.000000   101.000000    87.000000    89.000000   102.000000  \n",
       "75%     165.000000   184.000000   161.000000   163.000000   167.000000  \n",
       "max     255.000000   255.000000   255.000000   255.000000   255.000000  \n",
       "\n",
       "[8 rows x 200 columns]"
      ]
     },
     "execution_count": 61,
     "metadata": {},
     "output_type": "execute_result"
    }
   ],
   "source": [
    "data_new_20.describe()"
   ]
  },
  {
   "cell_type": "code",
   "execution_count": 62,
   "metadata": {
    "id": "SE2BCA2w0gsB"
   },
   "outputs": [],
   "source": [
    "data_new_5_array = data_new_5.to_numpy()\n",
    "data_new_10_array = data_new_10.to_numpy()\n",
    "data_new_20_array = data_new_20.to_numpy()"
   ]
  },
  {
   "cell_type": "markdown",
   "metadata": {
    "id": "FpwIzwmC6V6P"
   },
   "source": [
    "Randomizing and splitting the new datasets."
   ]
  },
  {
   "cell_type": "code",
   "execution_count": 63,
   "metadata": {
    "id": "iauncfwd0gsF",
    "outputId": "a76023ca-af54-4e36-bd8a-2c0c85628f45"
   },
   "outputs": [],
   "source": [
    "from sklearn.model_selection import train_test_split\n",
    "X_train_5, X_test_5, y_train_5, y_test_5 = train_test_split(data_new_5_array,y_array, random_state=42)\n",
    "X_train_10, X_test_10, y_train_10, y_test_10 = train_test_split(data_new_10_array,y_array, random_state=42)\n",
    "X_train_20, X_test_20, y_train_20, y_test_20 = train_test_split(data_new_20_array,y_array, random_state=42)"
   ]
  },
  {
   "cell_type": "markdown",
   "metadata": {
    "id": "qYcQUyBt6cxv"
   },
   "source": [
    "Normalizing the new features (pixels)"
   ]
  },
  {
   "cell_type": "code",
   "execution_count": 64,
   "metadata": {
    "id": "ual__khw0gsG"
   },
   "outputs": [],
   "source": [
    "x_train_5 = X_train_5.astype('float') / 255\n",
    "x_test_5 = X_test_5.astype('float') / 255\n",
    "x_train_10 = X_train_10.astype('float') / 255\n",
    "x_test_10 = X_test_10.astype('float') / 255\n",
    "x_train_20 = X_train_20.astype('float') / 255\n",
    "x_test_20 = X_test_20.astype('float') / 255"
   ]
  },
  {
   "cell_type": "markdown",
   "metadata": {
    "id": "esepaRMb6hq5"
   },
   "source": [
    "## a- Classification on the downsized datasets (top 5 pixels)"
   ]
  },
  {
   "cell_type": "code",
   "execution_count": 65,
   "metadata": {
    "id": "j1t2SWE30gsJ",
    "outputId": "3f421405-34c1-4956-adff-1a4ec1f69343"
   },
   "outputs": [
    {
     "name": "stderr",
     "output_type": "stream",
     "text": [
      "/Users/mohammedkhedr/anaconda3/envs/F21DL/lib/python3.8/site-packages/sklearn/utils/validation.py:72: DataConversionWarning: A column-vector y was passed when a 1d array was expected. Please change the shape of y to (n_samples, ), for example using ravel().\n",
      "  return f(**kwargs)\n"
     ]
    }
   ],
   "source": [
    "from sklearn.naive_bayes import GaussianNB\n",
    "\n",
    "#Create a Gaussian Classifier\n",
    "gnb = GaussianNB()\n",
    "\n",
    "#Train the model using the training sets\n",
    "gnb.fit(x_train_5, y_train_5)\n",
    "\n",
    "#Predict the response for test dataset\n",
    "y_pred_5 = gnb.predict(x_test_5)\n",
    "#https://www.datacamp.com/community/tutorials/naive-bayes-scikit-learn"
   ]
  },
  {
   "cell_type": "code",
   "execution_count": 68,
   "metadata": {
    "id": "Z-TuuRLc0gsK",
    "outputId": "3f436316-4034-406b-aba9-4010e6bab204"
   },
   "outputs": [
    {
     "name": "stdout",
     "output_type": "stream",
     "text": [
      "Accuracy: 38.918695831613704 %\n"
     ]
    }
   ],
   "source": [
    "from sklearn import metrics\n",
    "\n",
    "print(\"Accuracy:\",metrics.accuracy_score(y_test_5, y_pred_5)*100,'%')\n",
    "#https://www.datacamp.com/community/tutorials/naive-bayes-scikit-learn"
   ]
  },
  {
   "cell_type": "markdown",
   "metadata": {
    "id": "QxrliKZb6wbI"
   },
   "source": [
    "## b- Classification on the downsized datasets (top 10 pixels)"
   ]
  },
  {
   "cell_type": "code",
   "execution_count": 69,
   "metadata": {
    "id": "LMsmUof70gsL",
    "outputId": "fb5327ed-d90c-4b9f-8164-4b70be480bf2"
   },
   "outputs": [
    {
     "name": "stderr",
     "output_type": "stream",
     "text": [
      "/Users/mohammedkhedr/anaconda3/envs/F21DL/lib/python3.8/site-packages/sklearn/utils/validation.py:72: DataConversionWarning: A column-vector y was passed when a 1d array was expected. Please change the shape of y to (n_samples, ), for example using ravel().\n",
      "  return f(**kwargs)\n"
     ]
    }
   ],
   "source": [
    "from sklearn.naive_bayes import GaussianNB\n",
    "\n",
    "gnb = GaussianNB()\n",
    "\n",
    "gnb.fit(x_train_10, y_train_10)\n",
    "\n",
    "y_pred_10 = gnb.predict(x_test_10)\n",
    "#https://www.datacamp.com/community/tutorials/naive-bayes-scikit-learn"
   ]
  },
  {
   "cell_type": "code",
   "execution_count": 71,
   "metadata": {
    "id": "MKdqro1d0gsN",
    "outputId": "7ddefb35-1abc-49b5-d9bb-f012c69efbd4"
   },
   "outputs": [
    {
     "name": "stdout",
     "output_type": "stream",
     "text": [
      "Accuracy: 37.06149401568304 %\n"
     ]
    }
   ],
   "source": [
    "from sklearn import metrics\n",
    "\n",
    "print(\"Accuracy:\",metrics.accuracy_score(y_test_10, y_pred_10)*100,'%')\n",
    "#https://www.datacamp.com/community/tutorials/naive-bayes-scikit-learn"
   ]
  },
  {
   "cell_type": "markdown",
   "metadata": {
    "id": "3wbynRtn6yQg"
   },
   "source": [
    "## c- Classification on the downsized datasets (top 20 pixels)"
   ]
  },
  {
   "cell_type": "code",
   "execution_count": 74,
   "metadata": {
    "id": "ZF_ye8GL0gsO",
    "outputId": "8d8f9fa8-93fd-442a-81d5-f85baae40e63"
   },
   "outputs": [
    {
     "name": "stderr",
     "output_type": "stream",
     "text": [
      "/Users/mohammedkhedr/anaconda3/envs/F21DL/lib/python3.8/site-packages/sklearn/utils/validation.py:72: DataConversionWarning: A column-vector y was passed when a 1d array was expected. Please change the shape of y to (n_samples, ), for example using ravel().\n",
      "  return f(**kwargs)\n"
     ]
    }
   ],
   "source": [
    "from sklearn.naive_bayes import GaussianNB\n",
    "\n",
    "gnb = GaussianNB()\n",
    "\n",
    "gnb.fit(x_train_20, y_train_20)\n",
    "\n",
    "y_pred_20 = gnb.predict(x_test_20)\n",
    "#https://www.datacamp.com/community/tutorials/naive-bayes-scikit-learn"
   ]
  },
  {
   "cell_type": "code",
   "execution_count": 75,
   "metadata": {
    "id": "2UvKGp0Z0gsQ",
    "outputId": "0c6536f5-a2bd-452f-ba19-ad354c939176"
   },
   "outputs": [
    {
     "name": "stdout",
     "output_type": "stream",
     "text": [
      "Accuracy: 33.38836153528683 %\n"
     ]
    }
   ],
   "source": [
    "from sklearn import metrics\n",
    "\n",
    "print(\"Accuracy:\",metrics.accuracy_score(y_test_20, y_pred_20)*100,'%')\n",
    "#https://www.datacamp.com/community/tutorials/naive-bayes-scikit-learn"
   ]
  },
  {
   "cell_type": "markdown",
   "metadata": {
    "id": "DqXo4HG961vT"
   },
   "source": [
    "**Conclusion:** \n",
    "\n",
    " **The highest accuracy achieved with the smallest dataset (top 5 pixels) which is 38.9% compared to top 10 pixels accuracy and top 20 which are 37% and 33.3% respectively. Also, as the number of features increase the acccuracy decreases.**"
   ]
  },
  {
   "cell_type": "markdown",
   "metadata": {
    "id": "GZ2lEElH699n"
   },
   "source": [
    "## 5- Clustering:\n",
    "\n",
    "a) K-means Algorithm:\n",
    "\n",
    "In this section we will find the best number of clusters from the Elbow method and then cluster our data accordingly. Finally, we will calculate the accuracy.\n",
    "\n",
    "at first, we will visualize the data as the following: change the number of clusters manually from 2 to 10 clusters and check the accuracy for each n_clusters.\n",
    "\n"
   ]
  },
  {
   "cell_type": "code",
   "execution_count": 76,
   "metadata": {
    "id": "J8YoWoxt0gsR"
   },
   "outputs": [],
   "source": [
    "def plot_clusters(X, y=None):\n",
    "    plt.scatter(x[:, 0], x[:, 1], c=y, s=1)\n",
    "    plt.xlabel(\"$x_1$\", fontsize=14)\n",
    "    plt.ylabel(\"$x_2$\", fontsize=14, rotation=0)"
   ]
  },
  {
   "cell_type": "code",
   "execution_count": 77,
   "metadata": {
    "id": "9L5qHkVC0gsU",
    "outputId": "9dfdba76-78dd-42ba-be9e-2b5190933cfd"
   },
   "outputs": [
    {
     "data": {
      "image/png": "[encoded data removed]",
      "text/plain": [
       "<Figure size 1080x504 with 1 Axes>"
      ]
     },
     "metadata": {
      "needs_background": "light"
     },
     "output_type": "display_data"
    }
   ],
   "source": [
    "plt.figure(figsize=(15, 7))\n",
    "plot_clusters(x)\n",
    "plt.show()"
   ]
  },
  {
   "cell_type": "markdown",
   "metadata": {
    "id": "lF1jlf8srPEB"
   },
   "source": [
    "Secondly, we set the number clusters to 2 and check the accuracy for each class."
   ]
  },
  {
   "cell_type": "code",
   "execution_count": 177,
   "metadata": {},
   "outputs": [
    {
     "data": {
      "text/plain": [
       "575942.8111518625"
      ]
     },
     "execution_count": 177,
     "metadata": {},
     "output_type": "execute_result"
    }
   ],
   "source": [
    "from sklearn.cluster import KMeans\n",
    "\n",
    "kmeans = KMeans(n_clusters=10, init='k-means++', n_init=1,\n",
    "                     algorithm=\"full\", max_iter=300, random_state=1)\n",
    "kmeans.fit(x)\n",
    "kmeans.inertia_"
   ]
  },
  {
   "cell_type": "code",
   "execution_count": 220,
   "metadata": {
    "id": "2FmL2vJd0gsV",
    "outputId": "d13ae1f9-63f5-4725-88af-39ba01dc0561"
   },
   "outputs": [
    {
     "name": "stdout",
     "output_type": "stream",
     "text": [
      "The inertia of 2 Clusters:  1007270.8411086297\n",
      "The inertia of 3 Clusters:  837330.6798375535\n",
      "The inertia of 4 Clusters:  758419.791811627\n",
      "The inertia of 5 Clusters:  692130.6756020384\n",
      "The inertia of 6 Clusters:  657076.8630580138\n",
      "The inertia of 7 Clusters:  628412.5535844304\n",
      "The inertia of 8 Clusters:  604620.6086386055\n",
      "The inertia of 9 Clusters:  589668.8177792201\n",
      "The inertia of 10 Clusters:  575942.8111518625\n"
     ]
    }
   ],
   "source": [
    "from sklearn.cluster import KMeans\n",
    "\n",
    "kmeans2 = KMeans(n_clusters=2, init='k-means++', n_init=10, algorithm=\"full\", max_iter=300, random_state=1)\n",
    "kmeans2.fit(x)\n",
    "y2 = kmeans2.fit_predict(x)\n",
    "\n",
    "kmeans3 = KMeans(n_clusters=3, init='k-means++', n_init=10,algorithm=\"full\", max_iter=300, random_state=1)\n",
    "kmeans3.fit(x)\n",
    "y3 = kmeans3.fit_predict(x)\n",
    "\n",
    "kmeans4 = KMeans(n_clusters=4, init='k-means++', n_init=10, algorithm=\"full\", max_iter=300, random_state=1)\n",
    "kmeans4.fit(x)\n",
    "y4 = kmeans4.fit_predict(x)\n",
    "\n",
    "kmeans5 = KMeans(n_clusters=5, init='k-means++', n_init=10, algorithm=\"full\", max_iter=300, random_state=1)\n",
    "kmeans5.fit(x)\n",
    "y5 = kmeans5.fit_predict(x)\n",
    "\n",
    "kmeans6 = KMeans(n_clusters=6, init='k-means++', n_init=10, algorithm=\"full\", max_iter=300, random_state=1)\n",
    "kmeans6.fit(x)\n",
    "y6 = kmeans6.fit_predict(x)\n",
    "\n",
    "kmeans7 = KMeans(n_clusters=7, init='k-means++', n_init=10, algorithm=\"full\", max_iter=300, random_state=1)\n",
    "kmeans7.fit(x)\n",
    "y7 = kmeans7.fit_predict(x)\n",
    "\n",
    "kmeans8 = KMeans(n_clusters=8, init='k-means++', n_init=10, algorithm=\"full\", max_iter=300, random_state=1)\n",
    "kmeans8.fit(x)\n",
    "y8 = kmeans8.fit_predict(x)\n",
    "\n",
    "kmeans9 = KMeans(n_clusters=9, init='k-means++', n_init=10, algorithm=\"full\", max_iter=300, random_state=1)\n",
    "kmeans9.fit(x)\n",
    "y9 = kmeans9.fit_predict(x)\n",
    "\n",
    "kmeans10 = KMeans(n_clusters=10, init='k-means++', n_init=10, algorithm=\"full\", max_iter=300, random_state=1)\n",
    "kmeans10.fit(x)\n",
    "y10 = kmeans10.fit_predict(x)\n",
    "\n",
    "print(\"The inertia of 2 Clusters: \", kmeans2.inertia_)\n",
    "print(\"The inertia of 3 Clusters: \", kmeans3.inertia_)\n",
    "print(\"The inertia of 4 Clusters: \", kmeans4.inertia_)\n",
    "print(\"The inertia of 5 Clusters: \", kmeans5.inertia_)\n",
    "print(\"The inertia of 6 Clusters: \", kmeans6.inertia_)\n",
    "print(\"The inertia of 7 Clusters: \", kmeans7.inertia_)\n",
    "print(\"The inertia of 8 Clusters: \", kmeans8.inertia_)\n",
    "print(\"The inertia of 9 Clusters: \", kmeans9.inertia_)\n",
    "print(\"The inertia of 10 Clusters: \", kmeans10.inertia_)"
   ]
  },
  {
   "cell_type": "code",
   "execution_count": 221,
   "metadata": {},
   "outputs": [
    {
     "name": "stdout",
     "output_type": "stream",
     "text": [
      "Accuracy for 2 Clusters: 11.547987616099071 %\n",
      "Accuracy for 3 Clusters: 18.04953560371517 %\n",
      "Accuracy for 4 Clusters: 19.53560371517028 %\n",
      "Accuracy for 5 Clusters: 16.52218782249742 %\n",
      "Accuracy for 6 Clusters: 12.425180598555212 %\n",
      "Accuracy for 7 Clusters: 12.1671826625387 %\n",
      "Accuracy for 8 Clusters: 9.989680082559339 %\n",
      "Accuracy for 9 Clusters: 10.732714138286893 %\n",
      "Accuracy for 10 Clusters: 8.978328173374612 %\n"
     ]
    }
   ],
   "source": [
    "from sklearn import metrics\n",
    "\n",
    "print(\"Accuracy for 2 Clusters:\",metrics.accuracy_score(y, y2)*100,'%')\n",
    "print(\"Accuracy for 3 Clusters:\",metrics.accuracy_score(y, y3)*100,'%')\n",
    "print(\"Accuracy for 4 Clusters:\",metrics.accuracy_score(y, y4)*100,'%')\n",
    "print(\"Accuracy for 5 Clusters:\",metrics.accuracy_score(y, y5)*100,'%')\n",
    "print(\"Accuracy for 6 Clusters:\",metrics.accuracy_score(y, y6)*100,'%')\n",
    "print(\"Accuracy for 7 Clusters:\",metrics.accuracy_score(y, y7)*100,'%')\n",
    "print(\"Accuracy for 8 Clusters:\",metrics.accuracy_score(y, y8)*100,'%')\n",
    "print(\"Accuracy for 9 Clusters:\",metrics.accuracy_score(y, y9)*100,'%')\n",
    "print(\"Accuracy for 10 Clusters:\",metrics.accuracy_score(y, y10)*100,'%')\n",
    "#https://www.datacamp.com/community/tutorials/naive-bayes-scikit-learn"
   ]
  },
  {
   "cell_type": "markdown",
   "metadata": {
    "id": "erPSptKjrTtt"
   },
   "source": [
    "Now we will try the Elbow method in finding the best number of clusters to give the highest accuracy."
   ]
  },
  {
   "cell_type": "code",
   "execution_count": 181,
   "metadata": {
    "id": "KUvUYQ-d0gsY",
    "outputId": "743aa3de-d5a1-46f9-8eac-393bae37f27b"
   },
   "outputs": [
    {
     "data": {
      "image/png": "[encoded data removed]",
      "text/plain": [
       "<Figure size 432x288 with 1 Axes>"
      ]
     },
     "metadata": {
      "needs_background": "light"
     },
     "output_type": "display_data"
    }
   ],
   "source": [
    "inertia = []\n",
    "for i in range(1, 11):\n",
    "    kmeans = KMeans(n_clusters=i, init='k-means++', max_iter=300, n_init=1, random_state=1)\n",
    "    kmeans.fit(x)\n",
    "    inertia.append(kmeans.inertia_)\n",
    "plt.plot(range(1, 11), inertia)\n",
    "plt.title('Elbow Method')\n",
    "plt.xlabel('Number of clusters')\n",
    "plt.ylabel('inertia')\n",
    "plt.show()\n",
    "#https://towardsdatascience.com/machine-learning-algorithms-part-9-k-means-example-in-python-f2ad05ed5203"
   ]
  },
  {
   "cell_type": "markdown",
   "metadata": {
    "id": "Lv0ZTOKosLrs"
   },
   "source": [
    "From the figure above, the data are best to be clustered in 5 clusters.\n",
    "\n",
    "Now let's try to change n_clusters and calculate the accuracy at each trial."
   ]
  },
  {
   "cell_type": "code",
   "execution_count": 226,
   "metadata": {
    "id": "hOVOhMuZ0gsZ",
    "outputId": "39cd3be6-6540-471d-cd77-6ad5419f8146"
   },
   "outputs": [
    {
     "data": {
      "image/png": "[encoded data removed]",
      "text/plain": [
       "<Figure size 1080x504 with 1 Axes>"
      ]
     },
     "metadata": {
      "needs_background": "light"
     },
     "output_type": "display_data"
    }
   ],
   "source": [
    "kmeans = KMeans(n_clusters=10\n",
    "                , init='k-means++', max_iter=300, n_init=1, random_state=1)\n",
    "pred_y = kmeans.fit_predict(x)\n",
    "plt.figure(figsize=(15, 7))\n",
    "plt.scatter(x[:,0], x[:,1])\n",
    "plt.scatter(kmeans.cluster_centers_[:, 0], kmeans.cluster_centers_[:, 1], s=100, c='red')\n",
    "plt.show()\n",
    "#https://towardsdatascience.com/machine-learning-algorithms-part-9-k-means-example-in-python-f2ad05ed5203"
   ]
  },
  {
   "cell_type": "code",
   "execution_count": 88,
   "metadata": {
    "id": "hFF-1SDD0gsa",
    "outputId": "451a450b-c285-4f8f-aa8a-aa7e3a3a88e3"
   },
   "outputs": [
    {
     "name": "stdout",
     "output_type": "stream",
     "text": [
      "Accuracy: 26.006191950464398 %\n"
     ]
    }
   ],
   "source": [
    "from sklearn import metrics\n",
    "\n",
    "print(\"Accuracy:\",metrics.accuracy_score(y, pred_y)*100,'%')\n",
    "#https://www.datacamp.com/community/tutorials/naive-bayes-scikit-learn"
   ]
  },
  {
   "cell_type": "code",
   "execution_count": 222,
   "metadata": {},
   "outputs": [
    {
     "data": {
      "image/png": "[encoded data removed]",
      "text/plain": [
       "<Figure size 432x288 with 1 Axes>"
      ]
     },
     "metadata": {
      "needs_background": "light"
     },
     "output_type": "display_data"
    }
   ],
   "source": [
    "plt.scatter(x[pred_y==0, 0], x[pred_y==0, 1], s=50, c='red', label ='Cluster 1')\n",
    "plt.scatter(x[pred_y==1, 0], x[pred_y==1, 1], s=50, c='blue', label ='Cluster 2')\n",
    "plt.scatter(x[pred_y==2, 0], x[pred_y==2, 1], s=50, c='green', label ='Cluster 3')\n",
    "plt.scatter(x[pred_y==3, 0], x[pred_y==3, 1], s=50, c='cyan', label ='Cluster 4')\n",
    "plt.scatter(x[pred_y==4, 0], x[pred_y==4, 1], s=50, c='magenta', label ='Cluster 5')\n",
    "plt.title('Clusters of Pixels (Hierarchical Clustering Model)')\n",
    "plt.show()"
   ]
  },
  {
   "cell_type": "markdown",
   "metadata": {},
   "source": [
    "b) Hierarchical Clustering algorithm:"
   ]
  },
  {
   "cell_type": "code",
   "execution_count": 200,
   "metadata": {},
   "outputs": [],
   "source": [
    "from sklearn.cluster import AgglomerativeClustering\n",
    "model = AgglomerativeClustering(n_clusters=5, affinity='euclidean', linkage='ward')\n",
    "y_pred = model.fit_predict(data_new_5_array)"
   ]
  },
  {
   "cell_type": "code",
   "execution_count": 216,
   "metadata": {},
   "outputs": [
    {
     "data": {
      "image/png": "[encoded data removed]",
      "text/plain": [
       "<Figure size 432x288 with 1 Axes>"
      ]
     },
     "metadata": {
      "needs_background": "light"
     },
     "output_type": "display_data"
    }
   ],
   "source": [
    "plt.scatter(x[y_pred==0, 0], x[y_pred==0, 1], s=50, c='red', label ='Cluster 1')\n",
    "plt.scatter(x[y_pred==1, 0], x[y_pred==1, 1], s=50, c='blue', label ='Cluster 2')\n",
    "plt.scatter(x[y_pred==2, 0], x[y_pred==2, 1], s=50, c='green', label ='Cluster 3')\n",
    "plt.scatter(x[y_pred==3, 0], x[y_pred==3, 1], s=50, c='cyan', label ='Cluster 4')\n",
    "plt.scatter(x[y_pred==4, 0], x[y_pred==4, 1], s=50, c='magenta', label ='Cluster 5')\n",
    "plt.title('Clusters of Customers (Hierarchical Clustering Model)')\n",
    "plt.show()"
   ]
  },
  {
   "cell_type": "code",
   "execution_count": 98,
   "metadata": {},
   "outputs": [
    {
     "ename": "ValueError",
     "evalue": "Found input variables with inconsistent numbers of samples: [9690, 2423]",
     "output_type": "error",
     "traceback": [
      "\u001b[0;31m---------------------------------------------------------------------------\u001b[0m",
      "\u001b[0;31mValueError\u001b[0m                                Traceback (most recent call last)",
      "\u001b[0;32m<ipython-input-98-6eb4ed1f2aa2>\u001b[0m in \u001b[0;36m<module>\u001b[0;34m\u001b[0m\n\u001b[1;32m      1\u001b[0m \u001b[0;32mfrom\u001b[0m \u001b[0msklearn\u001b[0m \u001b[0;32mimport\u001b[0m \u001b[0mmetrics\u001b[0m\u001b[0;34m\u001b[0m\u001b[0;34m\u001b[0m\u001b[0m\n\u001b[1;32m      2\u001b[0m \u001b[0;34m\u001b[0m\u001b[0m\n\u001b[0;32m----> 3\u001b[0;31m \u001b[0mprint\u001b[0m\u001b[0;34m(\u001b[0m\u001b[0;34m\"Accuracy:\"\u001b[0m\u001b[0;34m,\u001b[0m\u001b[0mmetrics\u001b[0m\u001b[0;34m.\u001b[0m\u001b[0maccuracy_score\u001b[0m\u001b[0;34m(\u001b[0m\u001b[0my\u001b[0m\u001b[0;34m,\u001b[0m \u001b[0my_pred\u001b[0m\u001b[0;34m)\u001b[0m\u001b[0;34m*\u001b[0m\u001b[0;36m100\u001b[0m\u001b[0;34m,\u001b[0m\u001b[0;34m'%'\u001b[0m\u001b[0;34m)\u001b[0m\u001b[0;34m\u001b[0m\u001b[0;34m\u001b[0m\u001b[0m\n\u001b[0m",
      "\u001b[0;32m~/anaconda3/envs/F21DL/lib/python3.8/site-packages/sklearn/utils/validation.py\u001b[0m in \u001b[0;36minner_f\u001b[0;34m(*args, **kwargs)\u001b[0m\n\u001b[1;32m     70\u001b[0m                           FutureWarning)\n\u001b[1;32m     71\u001b[0m         \u001b[0mkwargs\u001b[0m\u001b[0;34m.\u001b[0m\u001b[0mupdate\u001b[0m\u001b[0;34m(\u001b[0m\u001b[0;34m{\u001b[0m\u001b[0mk\u001b[0m\u001b[0;34m:\u001b[0m \u001b[0marg\u001b[0m \u001b[0;32mfor\u001b[0m \u001b[0mk\u001b[0m\u001b[0;34m,\u001b[0m \u001b[0marg\u001b[0m \u001b[0;32min\u001b[0m \u001b[0mzip\u001b[0m\u001b[0;34m(\u001b[0m\u001b[0msig\u001b[0m\u001b[0;34m.\u001b[0m\u001b[0mparameters\u001b[0m\u001b[0;34m,\u001b[0m \u001b[0margs\u001b[0m\u001b[0;34m)\u001b[0m\u001b[0;34m}\u001b[0m\u001b[0;34m)\u001b[0m\u001b[0;34m\u001b[0m\u001b[0;34m\u001b[0m\u001b[0m\n\u001b[0;32m---> 72\u001b[0;31m         \u001b[0;32mreturn\u001b[0m \u001b[0mf\u001b[0m\u001b[0;34m(\u001b[0m\u001b[0;34m**\u001b[0m\u001b[0mkwargs\u001b[0m\u001b[0;34m)\u001b[0m\u001b[0;34m\u001b[0m\u001b[0;34m\u001b[0m\u001b[0m\n\u001b[0m\u001b[1;32m     73\u001b[0m     \u001b[0;32mreturn\u001b[0m \u001b[0minner_f\u001b[0m\u001b[0;34m\u001b[0m\u001b[0;34m\u001b[0m\u001b[0m\n\u001b[1;32m     74\u001b[0m \u001b[0;34m\u001b[0m\u001b[0m\n",
      "\u001b[0;32m~/anaconda3/envs/F21DL/lib/python3.8/site-packages/sklearn/metrics/_classification.py\u001b[0m in \u001b[0;36maccuracy_score\u001b[0;34m(y_true, y_pred, normalize, sample_weight)\u001b[0m\n\u001b[1;32m    185\u001b[0m \u001b[0;34m\u001b[0m\u001b[0m\n\u001b[1;32m    186\u001b[0m     \u001b[0;31m# Compute accuracy for each possible representation\u001b[0m\u001b[0;34m\u001b[0m\u001b[0;34m\u001b[0m\u001b[0;34m\u001b[0m\u001b[0m\n\u001b[0;32m--> 187\u001b[0;31m     \u001b[0my_type\u001b[0m\u001b[0;34m,\u001b[0m \u001b[0my_true\u001b[0m\u001b[0;34m,\u001b[0m \u001b[0my_pred\u001b[0m \u001b[0;34m=\u001b[0m \u001b[0m_check_targets\u001b[0m\u001b[0;34m(\u001b[0m\u001b[0my_true\u001b[0m\u001b[0;34m,\u001b[0m \u001b[0my_pred\u001b[0m\u001b[0;34m)\u001b[0m\u001b[0;34m\u001b[0m\u001b[0;34m\u001b[0m\u001b[0m\n\u001b[0m\u001b[1;32m    188\u001b[0m     \u001b[0mcheck_consistent_length\u001b[0m\u001b[0;34m(\u001b[0m\u001b[0my_true\u001b[0m\u001b[0;34m,\u001b[0m \u001b[0my_pred\u001b[0m\u001b[0;34m,\u001b[0m \u001b[0msample_weight\u001b[0m\u001b[0;34m)\u001b[0m\u001b[0;34m\u001b[0m\u001b[0;34m\u001b[0m\u001b[0m\n\u001b[1;32m    189\u001b[0m     \u001b[0;32mif\u001b[0m \u001b[0my_type\u001b[0m\u001b[0;34m.\u001b[0m\u001b[0mstartswith\u001b[0m\u001b[0;34m(\u001b[0m\u001b[0;34m'multilabel'\u001b[0m\u001b[0;34m)\u001b[0m\u001b[0;34m:\u001b[0m\u001b[0;34m\u001b[0m\u001b[0;34m\u001b[0m\u001b[0m\n",
      "\u001b[0;32m~/anaconda3/envs/F21DL/lib/python3.8/site-packages/sklearn/metrics/_classification.py\u001b[0m in \u001b[0;36m_check_targets\u001b[0;34m(y_true, y_pred)\u001b[0m\n\u001b[1;32m     79\u001b[0m     \u001b[0my_pred\u001b[0m \u001b[0;34m:\u001b[0m \u001b[0marray\u001b[0m \u001b[0;32mor\u001b[0m \u001b[0mindicator\u001b[0m \u001b[0mmatrix\u001b[0m\u001b[0;34m\u001b[0m\u001b[0;34m\u001b[0m\u001b[0m\n\u001b[1;32m     80\u001b[0m     \"\"\"\n\u001b[0;32m---> 81\u001b[0;31m     \u001b[0mcheck_consistent_length\u001b[0m\u001b[0;34m(\u001b[0m\u001b[0my_true\u001b[0m\u001b[0;34m,\u001b[0m \u001b[0my_pred\u001b[0m\u001b[0;34m)\u001b[0m\u001b[0;34m\u001b[0m\u001b[0;34m\u001b[0m\u001b[0m\n\u001b[0m\u001b[1;32m     82\u001b[0m     \u001b[0mtype_true\u001b[0m \u001b[0;34m=\u001b[0m \u001b[0mtype_of_target\u001b[0m\u001b[0;34m(\u001b[0m\u001b[0my_true\u001b[0m\u001b[0;34m)\u001b[0m\u001b[0;34m\u001b[0m\u001b[0;34m\u001b[0m\u001b[0m\n\u001b[1;32m     83\u001b[0m     \u001b[0mtype_pred\u001b[0m \u001b[0;34m=\u001b[0m \u001b[0mtype_of_target\u001b[0m\u001b[0;34m(\u001b[0m\u001b[0my_pred\u001b[0m\u001b[0;34m)\u001b[0m\u001b[0;34m\u001b[0m\u001b[0;34m\u001b[0m\u001b[0m\n",
      "\u001b[0;32m~/anaconda3/envs/F21DL/lib/python3.8/site-packages/sklearn/utils/validation.py\u001b[0m in \u001b[0;36mcheck_consistent_length\u001b[0;34m(*arrays)\u001b[0m\n\u001b[1;32m    253\u001b[0m     \u001b[0muniques\u001b[0m \u001b[0;34m=\u001b[0m \u001b[0mnp\u001b[0m\u001b[0;34m.\u001b[0m\u001b[0munique\u001b[0m\u001b[0;34m(\u001b[0m\u001b[0mlengths\u001b[0m\u001b[0;34m)\u001b[0m\u001b[0;34m\u001b[0m\u001b[0;34m\u001b[0m\u001b[0m\n\u001b[1;32m    254\u001b[0m     \u001b[0;32mif\u001b[0m \u001b[0mlen\u001b[0m\u001b[0;34m(\u001b[0m\u001b[0muniques\u001b[0m\u001b[0;34m)\u001b[0m \u001b[0;34m>\u001b[0m \u001b[0;36m1\u001b[0m\u001b[0;34m:\u001b[0m\u001b[0;34m\u001b[0m\u001b[0;34m\u001b[0m\u001b[0m\n\u001b[0;32m--> 255\u001b[0;31m         raise ValueError(\"Found input variables with inconsistent numbers of\"\n\u001b[0m\u001b[1;32m    256\u001b[0m                          \" samples: %r\" % [int(l) for l in lengths])\n\u001b[1;32m    257\u001b[0m \u001b[0;34m\u001b[0m\u001b[0m\n",
      "\u001b[0;31mValueError\u001b[0m: Found input variables with inconsistent numbers of samples: [9690, 2423]"
     ]
    }
   ],
   "source": [
    "from sklearn import metrics\n",
    "\n",
    "print(\"Accuracy:\",metrics.accuracy_score(y, y_pred)*100,'%')"
   ]
  },
  {
   "cell_type": "code",
   "execution_count": 123,
   "metadata": {},
   "outputs": [],
   "source": [
    "def get_pred(i):\n",
    "    y = pd.read_csv(\"/Users/mohammedkhedr/Downloads/y_train_smpl_\"+str(i)+\".csv\")\n",
    "    y_array = y.to_numpy()\n",
    "    X_train, X_test, y_train, y_test = train_test_split(X_array,y_array, random_state=42)\n",
    "    return y_test"
   ]
  },
  {
   "cell_type": "code",
   "execution_count": 124,
   "metadata": {},
   "outputs": [],
   "source": [
    "yy_pred = np.stack([get_pred(i) for i in range(10)],axis=1, out=None)"
   ]
  },
  {
   "cell_type": "code",
   "execution_count": 125,
   "metadata": {},
   "outputs": [],
   "source": [
    "pred_y = np.reshape(yy_pred, (yy_pred.shape[0],yy_pred.shape[1]))"
   ]
  },
  {
   "cell_type": "code",
   "execution_count": 126,
   "metadata": {},
   "outputs": [
    {
     "data": {
      "text/plain": [
       "(2423, 10)"
      ]
     },
     "execution_count": 126,
     "metadata": {},
     "output_type": "execute_result"
    }
   ],
   "source": [
    "pred_y.shape"
   ]
  },
  {
   "cell_type": "code",
   "execution_count": 138,
   "metadata": {},
   "outputs": [],
   "source": [
    "import tensorflow as tf\n",
    "model = tf.keras.Sequential([\n",
    "    tf.keras.layers.Dense(128, activation='relu'),\n",
    "    tf.keras.layers.Dense(10, activation='softmax')\n",
    "])"
   ]
  },
  {
   "cell_type": "code",
   "execution_count": 139,
   "metadata": {},
   "outputs": [],
   "source": [
    "model.compile(optimizer='adam', loss='sparse_categorical_crossentropy', metrics=['accuracy'])"
   ]
  },
  {
   "cell_type": "code",
   "execution_count": 140,
   "metadata": {
    "scrolled": false
   },
   "outputs": [
    {
     "name": "stdout",
     "output_type": "stream",
     "text": [
      "Epoch 1/100\n",
      "228/228 [==============================] - 0s 2ms/step - loss: 1.5991 - accuracy: 0.4267\n",
      "Epoch 2/100\n",
      "228/228 [==============================] - 0s 999us/step - loss: 1.1376 - accuracy: 0.6163\n",
      "Epoch 3/100\n",
      "228/228 [==============================] - 0s 1ms/step - loss: 0.9382 - accuracy: 0.6989\n",
      "Epoch 4/100\n",
      "228/228 [==============================] - 0s 1ms/step - loss: 0.7530 - accuracy: 0.7765\n",
      "Epoch 5/100\n",
      "228/228 [==============================] - 0s 1ms/step - loss: 0.6355 - accuracy: 0.8268\n",
      "Epoch 6/100\n",
      "228/228 [==============================] - 0s 1ms/step - loss: 0.5679 - accuracy: 0.8478\n",
      "Epoch 7/100\n",
      "228/228 [==============================] - 0s 1ms/step - loss: 0.4791 - accuracy: 0.8752\n",
      "Epoch 8/100\n",
      "228/228 [==============================] - 0s 1ms/step - loss: 0.4539 - accuracy: 0.8779\n",
      "Epoch 9/100\n",
      "228/228 [==============================] - 0s 1ms/step - loss: 0.3824 - accuracy: 0.9012\n",
      "Epoch 10/100\n",
      "228/228 [==============================] - 0s 1ms/step - loss: 0.3944 - accuracy: 0.8884\n",
      "Epoch 11/100\n",
      "228/228 [==============================] - 0s 1ms/step - loss: 0.3259 - accuracy: 0.9133\n",
      "Epoch 12/100\n",
      "228/228 [==============================] - 0s 1ms/step - loss: 0.2918 - accuracy: 0.9239\n",
      "Epoch 13/100\n",
      "228/228 [==============================] - 0s 1ms/step - loss: 0.2991 - accuracy: 0.9205\n",
      "Epoch 14/100\n",
      "228/228 [==============================] - 0s 1ms/step - loss: 0.2833 - accuracy: 0.9234\n",
      "Epoch 15/100\n",
      "228/228 [==============================] - 0s 1ms/step - loss: 0.2388 - accuracy: 0.9373\n",
      "Epoch 16/100\n",
      "228/228 [==============================] - 0s 1ms/step - loss: 0.2602 - accuracy: 0.9264\n",
      "Epoch 17/100\n",
      "228/228 [==============================] - 0s 1ms/step - loss: 0.2343 - accuracy: 0.9373\n",
      "Epoch 18/100\n",
      "228/228 [==============================] - 0s 1ms/step - loss: 0.2363 - accuracy: 0.9361\n",
      "Epoch 19/100\n",
      "228/228 [==============================] - 0s 995us/step - loss: 0.2087 - accuracy: 0.9441\n",
      "Epoch 20/100\n",
      "228/228 [==============================] - 0s 1ms/step - loss: 0.2288 - accuracy: 0.9374\n",
      "Epoch 21/100\n",
      "228/228 [==============================] - 0s 1ms/step - loss: 0.1899 - accuracy: 0.9498\n",
      "Epoch 22/100\n",
      "228/228 [==============================] - 0s 1ms/step - loss: 0.2222 - accuracy: 0.9385\n",
      "Epoch 23/100\n",
      "228/228 [==============================] - 0s 1ms/step - loss: 0.2142 - accuracy: 0.9396\n",
      "Epoch 24/100\n",
      "228/228 [==============================] - 0s 1ms/step - loss: 0.1754 - accuracy: 0.9516\n",
      "Epoch 25/100\n",
      "228/228 [==============================] - 0s 1ms/step - loss: 0.1811 - accuracy: 0.9518\n",
      "Epoch 26/100\n",
      "228/228 [==============================] - 0s 1ms/step - loss: 0.2138 - accuracy: 0.9370\n",
      "Epoch 27/100\n",
      "228/228 [==============================] - 0s 1ms/step - loss: 0.1762 - accuracy: 0.9502\n",
      "Epoch 28/100\n",
      "228/228 [==============================] - 0s 1ms/step - loss: 0.1496 - accuracy: 0.9617\n",
      "Epoch 29/100\n",
      "228/228 [==============================] - 0s 1ms/step - loss: 0.1499 - accuracy: 0.9601\n",
      "Epoch 30/100\n",
      "228/228 [==============================] - 0s 1ms/step - loss: 0.1486 - accuracy: 0.9580\n",
      "Epoch 31/100\n",
      "228/228 [==============================] - 0s 1ms/step - loss: 0.1412 - accuracy: 0.9627\n",
      "Epoch 32/100\n",
      "228/228 [==============================] - 0s 998us/step - loss: 0.1354 - accuracy: 0.9653\n",
      "Epoch 33/100\n",
      "228/228 [==============================] - 0s 1ms/step - loss: 0.1506 - accuracy: 0.9571\n",
      "Epoch 34/100\n",
      "228/228 [==============================] - 0s 1ms/step - loss: 0.1539 - accuracy: 0.9571\n",
      "Epoch 35/100\n",
      "228/228 [==============================] - 0s 1ms/step - loss: 0.1262 - accuracy: 0.9655\n",
      "Epoch 36/100\n",
      "228/228 [==============================] - 0s 1ms/step - loss: 0.1429 - accuracy: 0.9600\n",
      "Epoch 37/100\n",
      "228/228 [==============================] - 0s 1ms/step - loss: 0.1101 - accuracy: 0.9701\n",
      "Epoch 38/100\n",
      "228/228 [==============================] - 0s 1ms/step - loss: 0.1354 - accuracy: 0.9619\n",
      "Epoch 39/100\n",
      "228/228 [==============================] - 0s 1ms/step - loss: 0.1155 - accuracy: 0.9678\n",
      "Epoch 40/100\n",
      "228/228 [==============================] - 0s 1ms/step - loss: 0.1864 - accuracy: 0.9408\n",
      "Epoch 41/100\n",
      "228/228 [==============================] - 0s 1ms/step - loss: 0.1165 - accuracy: 0.9685\n",
      "Epoch 42/100\n",
      "228/228 [==============================] - 0s 1ms/step - loss: 0.1004 - accuracy: 0.9741\n",
      "Epoch 43/100\n",
      "228/228 [==============================] - 0s 1ms/step - loss: 0.1288 - accuracy: 0.9613\n",
      "Epoch 44/100\n",
      "228/228 [==============================] - 0s 1ms/step - loss: 0.1202 - accuracy: 0.9657\n",
      "Epoch 45/100\n",
      "228/228 [==============================] - 0s 1ms/step - loss: 0.1116 - accuracy: 0.9696\n",
      "Epoch 46/100\n",
      "228/228 [==============================] - 0s 1ms/step - loss: 0.1594 - accuracy: 0.9573\n",
      "Epoch 47/100\n",
      "228/228 [==============================] - 0s 1ms/step - loss: 0.0948 - accuracy: 0.9737\n",
      "Epoch 48/100\n",
      "228/228 [==============================] - 0s 1ms/step - loss: 0.1107 - accuracy: 0.9688\n",
      "Epoch 49/100\n",
      "228/228 [==============================] - 0s 1ms/step - loss: 0.0836 - accuracy: 0.9756\n",
      "Epoch 50/100\n",
      "228/228 [==============================] - 0s 1ms/step - loss: 0.0816 - accuracy: 0.9785\n",
      "Epoch 51/100\n",
      "228/228 [==============================] - 0s 1ms/step - loss: 0.1121 - accuracy: 0.9689\n",
      "Epoch 52/100\n",
      "228/228 [==============================] - 0s 1ms/step - loss: 0.1202 - accuracy: 0.9659\n",
      "Epoch 53/100\n",
      "228/228 [==============================] - 0s 1ms/step - loss: 0.0758 - accuracy: 0.9780\n",
      "Epoch 54/100\n",
      "228/228 [==============================] - 0s 996us/step - loss: 0.0916 - accuracy: 0.9745\n",
      "Epoch 55/100\n",
      "228/228 [==============================] - 0s 1ms/step - loss: 0.0726 - accuracy: 0.9794\n",
      "Epoch 56/100\n",
      "228/228 [==============================] - 0s 1ms/step - loss: 0.0738 - accuracy: 0.9806\n",
      "Epoch 57/100\n",
      "228/228 [==============================] - 0s 1ms/step - loss: 0.1583 - accuracy: 0.9543\n",
      "Epoch 58/100\n",
      "228/228 [==============================] - 0s 1ms/step - loss: 0.0701 - accuracy: 0.9810\n",
      "Epoch 59/100\n",
      "228/228 [==============================] - 0s 1ms/step - loss: 0.0984 - accuracy: 0.9725\n",
      "Epoch 60/100\n",
      "228/228 [==============================] - 0s 1ms/step - loss: 0.0750 - accuracy: 0.9794\n",
      "Epoch 61/100\n",
      "228/228 [==============================] - 0s 1ms/step - loss: 0.1228 - accuracy: 0.9646\n",
      "Epoch 62/100\n",
      "228/228 [==============================] - 0s 1ms/step - loss: 0.0651 - accuracy: 0.9817\n",
      "Epoch 63/100\n",
      "228/228 [==============================] - 0s 1ms/step - loss: 0.0526 - accuracy: 0.9875\n",
      "Epoch 64/100\n",
      "228/228 [==============================] - 0s 1ms/step - loss: 0.0542 - accuracy: 0.9865\n",
      "Epoch 65/100\n",
      "228/228 [==============================] - 0s 1ms/step - loss: 0.1347 - accuracy: 0.9579\n",
      "Epoch 66/100\n",
      "228/228 [==============================] - 0s 1ms/step - loss: 0.0672 - accuracy: 0.9835\n",
      "Epoch 67/100\n",
      "228/228 [==============================] - 0s 1ms/step - loss: 0.0593 - accuracy: 0.9845\n",
      "Epoch 68/100\n",
      "228/228 [==============================] - 0s 1ms/step - loss: 0.1422 - accuracy: 0.9656\n",
      "Epoch 69/100\n",
      "228/228 [==============================] - 0s 1ms/step - loss: 0.0585 - accuracy: 0.9850\n",
      "Epoch 70/100\n",
      "228/228 [==============================] - 0s 1ms/step - loss: 0.1076 - accuracy: 0.9672\n",
      "Epoch 71/100\n",
      "228/228 [==============================] - 0s 1ms/step - loss: 0.0586 - accuracy: 0.9843\n",
      "Epoch 72/100\n",
      "228/228 [==============================] - 0s 1ms/step - loss: 0.0790 - accuracy: 0.9781\n",
      "Epoch 73/100\n",
      "228/228 [==============================] - 0s 1ms/step - loss: 0.0750 - accuracy: 0.9794\n",
      "Epoch 74/100\n",
      "228/228 [==============================] - 0s 1ms/step - loss: 0.0597 - accuracy: 0.9827\n",
      "Epoch 75/100\n",
      "228/228 [==============================] - 0s 1ms/step - loss: 0.0567 - accuracy: 0.9838\n",
      "Epoch 76/100\n",
      "228/228 [==============================] - 0s 1ms/step - loss: 0.0603 - accuracy: 0.9840\n",
      "Epoch 77/100\n",
      "228/228 [==============================] - 0s 1ms/step - loss: 0.0519 - accuracy: 0.9864\n",
      "Epoch 78/100\n",
      "228/228 [==============================] - 0s 1ms/step - loss: 0.0965 - accuracy: 0.9741\n",
      "Epoch 79/100\n",
      "228/228 [==============================] - 0s 1ms/step - loss: 0.0766 - accuracy: 0.9780\n",
      "Epoch 80/100\n",
      "228/228 [==============================] - 0s 1ms/step - loss: 0.0647 - accuracy: 0.9836\n",
      "Epoch 81/100\n",
      "228/228 [==============================] - 0s 1ms/step - loss: 0.0458 - accuracy: 0.9886\n",
      "Epoch 82/100\n",
      "228/228 [==============================] - 0s 1ms/step - loss: 0.0935 - accuracy: 0.9754\n",
      "Epoch 83/100\n",
      "228/228 [==============================] - 0s 1ms/step - loss: 0.0908 - accuracy: 0.9752\n",
      "Epoch 84/100\n",
      "228/228 [==============================] - 0s 1ms/step - loss: 0.0626 - accuracy: 0.9791\n",
      "Epoch 85/100\n",
      "228/228 [==============================] - 0s 1ms/step - loss: 0.0424 - accuracy: 0.9891\n",
      "Epoch 86/100\n",
      "228/228 [==============================] - 0s 1ms/step - loss: 0.0808 - accuracy: 0.9781\n",
      "Epoch 87/100\n",
      "228/228 [==============================] - 0s 1ms/step - loss: 0.0665 - accuracy: 0.9818\n",
      "Epoch 88/100\n",
      "228/228 [==============================] - 0s 1ms/step - loss: 0.0643 - accuracy: 0.9821\n",
      "Epoch 89/100\n",
      "228/228 [==============================] - 0s 1ms/step - loss: 0.1001 - accuracy: 0.9747\n",
      "Epoch 90/100\n",
      "228/228 [==============================] - 0s 1ms/step - loss: 0.0447 - accuracy: 0.9860\n",
      "Epoch 91/100\n",
      "228/228 [==============================] - 0s 1ms/step - loss: 0.0408 - accuracy: 0.9893\n",
      "Epoch 92/100\n",
      "228/228 [==============================] - 0s 1ms/step - loss: 0.0439 - accuracy: 0.9884\n",
      "Epoch 93/100\n",
      "228/228 [==============================] - 0s 1ms/step - loss: 0.0824 - accuracy: 0.9755\n",
      "Epoch 94/100\n",
      "228/228 [==============================] - 0s 1ms/step - loss: 0.0420 - accuracy: 0.9889\n",
      "Epoch 95/100\n",
      "228/228 [==============================] - 0s 1ms/step - loss: 0.0357 - accuracy: 0.9898\n",
      "Epoch 96/100\n",
      "228/228 [==============================] - 0s 1ms/step - loss: 0.1050 - accuracy: 0.9692\n",
      "Epoch 97/100\n",
      "228/228 [==============================] - 0s 1ms/step - loss: 0.0773 - accuracy: 0.9780\n",
      "Epoch 98/100\n",
      "228/228 [==============================] - 0s 1ms/step - loss: 0.0294 - accuracy: 0.9922\n",
      "Epoch 99/100\n",
      "228/228 [==============================] - 0s 1ms/step - loss: 0.0371 - accuracy: 0.9905\n",
      "Epoch 100/100\n",
      "228/228 [==============================] - 0s 1ms/step - loss: 0.0880 - accuracy: 0.9784\n"
     ]
    }
   ],
   "source": [
    "m = model.fit(x=x_train,y=y_train,epochs=100)"
   ]
  },
  {
   "cell_type": "code",
   "execution_count": 141,
   "metadata": {},
   "outputs": [
    {
     "name": "stdout",
     "output_type": "stream",
     "text": [
      "\n",
      "Test accuracy: 93.6855137348175\n"
     ]
    }
   ],
   "source": [
    "test_loss, test_acc = model.evaluate(x_test,  y_test, verbose=0)\n",
    "print('\\nTest accuracy:', test_acc*100)"
   ]
  },
  {
   "cell_type": "code",
   "execution_count": 142,
   "metadata": {},
   "outputs": [],
   "source": [
    "yhat_classes = model.predict_classes(x_test, verbose=0)\n",
    "yhat = np.reshape(yhat_classes, (y_test.shape[0],y_test.shape[1]))"
   ]
  },
  {
   "cell_type": "code",
   "execution_count": 143,
   "metadata": {},
   "outputs": [],
   "source": [
    "y_pred = model.predict(x_test, verbose=0)"
   ]
  },
  {
   "cell_type": "code",
   "execution_count": 144,
   "metadata": {},
   "outputs": [],
   "source": [
    "y_score = model.predict(x_test, verbose=0)"
   ]
  },
  {
   "cell_type": "code",
   "execution_count": 145,
   "metadata": {},
   "outputs": [],
   "source": [
    "yhat_prop = model.predict_proba(x_test)"
   ]
  },
  {
   "cell_type": "code",
   "execution_count": 146,
   "metadata": {},
   "outputs": [],
   "source": [
    "target_names = ['class 0', 'class 1', 'class 2','class 3', 'class 4', 'class 5',\n",
    "                'class 6', 'class 7', 'class 8', 'class 9']"
   ]
  },
  {
   "cell_type": "code",
   "execution_count": 147,
   "metadata": {},
   "outputs": [
    {
     "name": "stdout",
     "output_type": "stream",
     "text": [
      "Accuracy: 0.936855\n",
      "[[ 56   4   0   0   0   0   0   0   0   0]\n",
      " [ 12 537   4   1   3   0   0   0   4   1]\n",
      " [  1  38 513   7   7   0   0   0   3   0]\n",
      " [  0   2   2 356   1   0   0   0   1   0]\n",
      " [  3   5   1   0 476   0   0   0   0   1]\n",
      " [  0   0   0   0   0  42   0   0  14   1]\n",
      " [  0   0   1   4   3   0  65   0  12   0]\n",
      " [  0   0   0   1   0   0   0  48   5   0]\n",
      " [  1   1   0   0   0   0   0   0 120   0]\n",
      " [  1   1   0   0   0   0   0   0   7  57]]\n",
      "              precision    recall  f1-score   support\n",
      "\n",
      "     class 0       0.76      0.93      0.84        60\n",
      "     class 1       0.91      0.96      0.93       562\n",
      "     class 2       0.98      0.90      0.94       569\n",
      "     class 3       0.96      0.98      0.97       362\n",
      "     class 4       0.97      0.98      0.98       486\n",
      "     class 5       1.00      0.74      0.85        57\n",
      "     class 6       1.00      0.76      0.87        85\n",
      "     class 7       1.00      0.89      0.94        54\n",
      "     class 8       0.72      0.98      0.83       122\n",
      "     class 9       0.95      0.86      0.90        66\n",
      "\n",
      "    accuracy                           0.94      2423\n",
      "   macro avg       0.93      0.90      0.91      2423\n",
      "weighted avg       0.94      0.94      0.94      2423\n",
      "\n",
      "0.9950725189275597\n"
     ]
    }
   ],
   "source": [
    "from sklearn.metrics import accuracy_score\n",
    "from sklearn.metrics import confusion_matrix\n",
    "from sklearn.metrics import classification_report\n",
    "from sklearn.metrics import roc_auc_score\n",
    "# accuracy: (tp + tn) / (p + n)\n",
    "accuracy = accuracy_score(y_test, yhat)\n",
    "print('Accuracy: %f' % accuracy)\n",
    "cm = confusion_matrix(y_test, yhat)\n",
    "print(cm)\n",
    "print(classification_report(y_test, yhat, target_names=target_names))\n",
    "print(roc_auc_score(y_test, y_pred, average='weighted',multi_class='ovr'))"
   ]
  },
  {
   "cell_type": "code",
   "execution_count": 151,
   "metadata": {},
   "outputs": [
    {
     "data": {
      "image/png": "[encoded data removed]",
      "text/plain": [
       "<Figure size 1080x504 with 1 Axes>"
      ]
     },
     "metadata": {
      "needs_background": "light"
     },
     "output_type": "display_data"
    },
    {
     "data": {
      "image/png": "[encoded data removed]",
      "text/plain": [
       "<Figure size 1080x504 with 1 Axes>"
      ]
     },
     "metadata": {
      "needs_background": "light"
     },
     "output_type": "display_data"
    },
    {
     "data": {
      "image/png": "[encoded data removed]",
      "text/plain": [
       "<Figure size 1080x504 with 1 Axes>"
      ]
     },
     "metadata": {
      "needs_background": "light"
     },
     "output_type": "display_data"
    },
    {
     "data": {
      "image/png": "[encoded data removed]",
      "text/plain": [
       "<Figure size 1080x504 with 1 Axes>"
      ]
     },
     "metadata": {
      "needs_background": "light"
     },
     "output_type": "display_data"
    },
    {
     "data": {
      "image/png": "[encoded data removed]",
      "text/plain": [
       "<Figure size 1080x504 with 1 Axes>"
      ]
     },
     "metadata": {
      "needs_background": "light"
     },
     "output_type": "display_data"
    },
    {
     "data": {
      "image/png": "[encoded data removed]",
      "text/plain": [
       "<Figure size 1080x504 with 1 Axes>"
      ]
     },
     "metadata": {
      "needs_background": "light"
     },
     "output_type": "display_data"
    },
    {
     "data": {
      "image/png": "[encoded data removed]",
      "text/plain": [
       "<Figure size 1080x504 with 1 Axes>"
      ]
     },
     "metadata": {
      "needs_background": "light"
     },
     "output_type": "display_data"
    },
    {
     "data": {
      "image/png": "[encoded data removed]",
      "text/plain": [
       "<Figure size 1080x504 with 1 Axes>"
      ]
     },
     "metadata": {
      "needs_background": "light"
     },
     "output_type": "display_data"
    },
    {
     "data": {
      "image/png": "[encoded data removed]",
      "text/plain": [
       "<Figure size 1080x504 with 1 Axes>"
      ]
     },
     "metadata": {
      "needs_background": "light"
     },
     "output_type": "display_data"
    },
    {
     "data": {
      "image/png": "[encoded data removed]",
      "text/plain": [
       "<Figure size 1080x504 with 1 Axes>"
      ]
     },
     "metadata": {
      "needs_background": "light"
     },
     "output_type": "display_data"
    }
   ],
   "source": [
    "from sklearn.metrics import roc_curve, auc\n",
    "n_classes = 10\n",
    "fpr = dict()\n",
    "tpr = dict()\n",
    "roc_auc = dict()\n",
    "for i in range(n_classes):\n",
    "    fpr[i], tpr[i], _ = roc_curve(pred_y[:, i], y_score[:, i])\n",
    "    roc_auc[i] = auc(fpr[i], tpr[i])\n",
    "\n",
    "# Compute micro-average ROC curve and ROC area\n",
    "fpr[\"micro\"], tpr[\"micro\"], _ = roc_curve(pred_y.ravel(), y_score.ravel())\n",
    "roc_auc[\"micro\"] = auc(fpr[\"micro\"], tpr[\"micro\"])\n",
    "for i in range(n_classes):\n",
    "    plt.figure(figsize=(15, 7))\n",
    "    plt.plot(fpr[i], tpr[i], color='darkorange', label='ROC curve for Class'+str(i)+' (area = %0.2f)' % roc_auc[i])\n",
    "    #plt.plot([0, 1], [0, 1], color='navy', linestyle='--')\n",
    "    plt.xlim([0.0, 1.0])\n",
    "    plt.ylim([0.0, 1.05])\n",
    "    plt.xlabel('False Positive Rate')\n",
    "    plt.ylabel('True Positive Rate')\n",
    "    plt.title('Receiver operating characteristic example')\n",
    "    plt.legend(loc=\"upper left\")\n",
    "    plt.show()"
   ]
  },
  {
   "cell_type": "code",
   "execution_count": null,
   "metadata": {},
   "outputs": [],
   "source": []
  }
 ],
 "metadata": {
  "colab": {
   "name": "Copy of F21DL CW.ipynb",
   "provenance": []
  },
  "kernelspec": {
   "display_name": "Python 3",
   "language": "python",
   "name": "python3"
  },
  "language_info": {
   "codemirror_mode": {
    "name": "ipython",
    "version": 3
   },
   "file_extension": ".py",
   "mimetype": "text/x-python",
   "name": "python",
   "nbconvert_exporter": "python",
   "pygments_lexer": "ipython3",
   "version": "3.8.5"
  }
 },
 "nbformat": 4,
 "nbformat_minor": 1
}
